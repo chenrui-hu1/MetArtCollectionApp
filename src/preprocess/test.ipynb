{
 "cells": [
  {
   "cell_type": "code",
   "execution_count": 1,
   "metadata": {
    "collapsed": true
   },
   "outputs": [],
   "source": [
    "import pandas as pd\n",
    "import numpy as np\n"
   ]
  },
  {
   "cell_type": "code",
   "execution_count": 2,
   "outputs": [
    {
     "name": "stderr",
     "output_type": "stream",
     "text": [
      "/var/folders/pl/31lr7g6160j6gclk5kfqf6h80000gn/T/ipykernel_6132/242233197.py:1: DtypeWarning: Columns (1,2,4,5,24,25) have mixed types. Specify dtype option on import or set low_memory=False.\n",
      "  artifacts_df = pd.read_csv(\"../dataset/artifacts.csv\")\n",
      "/var/folders/pl/31lr7g6160j6gclk5kfqf6h80000gn/T/ipykernel_6132/242233197.py:4: DtypeWarning: Columns (1) have mixed types. Specify dtype option on import or set low_memory=False.\n",
      "  location_df = pd.read_csv(\"../dataset/location.csv\")\n",
      "/var/folders/pl/31lr7g6160j6gclk5kfqf6h80000gn/T/ipykernel_6132/242233197.py:5: DtypeWarning: Columns (1) have mixed types. Specify dtype option on import or set low_memory=False.\n",
      "  metadata_df = pd.read_csv(\"../dataset/metadata.csv\")\n"
     ]
    }
   ],
   "source": [
    "artifacts_df = pd.read_csv(\"../dataset/artifacts.csv\")\n",
    "artists_df = pd.read_csv(\"../dataset/artists.csv\")\n",
    "departments_df = pd.read_csv(\"../dataset/departments.csv\")\n",
    "location_df = pd.read_csv(\"../dataset/location.csv\")\n",
    "metadata_df = pd.read_csv(\"../dataset/metadata.csv\")\n"
   ],
   "metadata": {
    "collapsed": false
   }
  },
  {
   "cell_type": "code",
   "execution_count": 3,
   "outputs": [
    {
     "data": {
      "text/plain": "   Unnamed: 0 objectID isHighlight accessionNumber accessionYear  \\\n0           0       34       False      1970.289.6        1970.0   \n1           1       37       False       38.165.51        1938.0   \n2           2       38       False       38.165.50        1938.0   \n3           3       39       False        18.11.10        1918.0   \n4           4       40       False      46.140.143        1946.0   \n\n  isPublicDomain                                       primaryImage  \\\n0           True  https://images.metmuseum.org/CRDImages/ad/orig...   \n1           True  https://images.metmuseum.org/CRDImages/ad/orig...   \n2           True  https://images.metmuseum.org/CRDImages/ad/orig...   \n3           True  https://images.metmuseum.org/CRDImages/ad/orig...   \n4           True  https://images.metmuseum.org/CRDImages/ad/orig...   \n\n                                   primaryImageSmall  \\\n0  https://images.metmuseum.org/CRDImages/ad/web-...   \n1  https://images.metmuseum.org/CRDImages/ad/web-...   \n2  https://images.metmuseum.org/CRDImages/ad/web-...   \n3  https://images.metmuseum.org/CRDImages/ad/web-...   \n4  https://images.metmuseum.org/CRDImages/ad/web-...   \n\n                                    additionalImages     objectName  ...  \\\n0                                                 []          Clock  ...   \n1  ['https://images.metmuseum.org/CRDImages/ad/or...         Figure  ...   \n2  ['https://images.metmuseum.org/CRDImages/ad/or...         Figure  ...   \n3                                                 []  Advertisement  ...   \n4                                                 []      Ale glass  ...   \n\n  objectEndDate               medium  \\\n0        1850.0  Mahogany, laminated   \n1        1785.0  Earthenware, basalt   \n2        1785.0  Earthenware, basalt   \n3        1800.0                Paper   \n4        1870.0        Pressed glass   \n\n                                          dimensions  \\\n0  24 3/8 x 14 5/8 x 5 1/8 in. (61.9 x 37.1 x 13 cm)   \n1                                H. 12 in. (30.5 cm)   \n2                            H. 12 3/8 in. (31.4 cm)   \n3                        11 x 9 in. (27.9 x 22.9 cm)   \n4      H. 6 9/16 in. (16.7 cm); Diam. 3 in. (7.6 cm)   \n\n                                        measurements  \\\n0  [{'elementName': 'Overall', 'elementDescriptio...   \n1  [{'elementName': 'Overall', 'elementDescriptio...   \n2  [{'elementName': 'Overall', 'elementDescriptio...   \n3  [{'elementName': 'Overall', 'elementDescriptio...   \n4  [{'elementName': 'Other', 'elementDescription'...   \n\n                                creditLine classification isTimelineWork  \\\n0            Gift of Mrs. Paul Moore, 1970            NaN          False   \n1          Harris Brisbane Dick Fund, 1938            NaN          False   \n2          Harris Brisbane Dick Fund, 1938            NaN          False   \n3                        Rogers Fund, 1918            NaN          False   \n4  Gift of Mrs. Emily Winthrop Miles, 1946            NaN          False   \n\n   GalleryNumber         department constituentID  \n0          774.0  The American Wing        1082.0  \n1          774.0  The American Wing      164285.0  \n2          774.0  The American Wing      164285.0  \n3            NaN  The American Wing           NaN  \n4          774.0  The American Wing        1087.0  \n\n[5 rows x 28 columns]",
      "text/html": "<div>\n<style scoped>\n    .dataframe tbody tr th:only-of-type {\n        vertical-align: middle;\n    }\n\n    .dataframe tbody tr th {\n        vertical-align: top;\n    }\n\n    .dataframe thead th {\n        text-align: right;\n    }\n</style>\n<table border=\"1\" class=\"dataframe\">\n  <thead>\n    <tr style=\"text-align: right;\">\n      <th></th>\n      <th>Unnamed: 0</th>\n      <th>objectID</th>\n      <th>isHighlight</th>\n      <th>accessionNumber</th>\n      <th>accessionYear</th>\n      <th>isPublicDomain</th>\n      <th>primaryImage</th>\n      <th>primaryImageSmall</th>\n      <th>additionalImages</th>\n      <th>objectName</th>\n      <th>...</th>\n      <th>objectEndDate</th>\n      <th>medium</th>\n      <th>dimensions</th>\n      <th>measurements</th>\n      <th>creditLine</th>\n      <th>classification</th>\n      <th>isTimelineWork</th>\n      <th>GalleryNumber</th>\n      <th>department</th>\n      <th>constituentID</th>\n    </tr>\n  </thead>\n  <tbody>\n    <tr>\n      <th>0</th>\n      <td>0</td>\n      <td>34</td>\n      <td>False</td>\n      <td>1970.289.6</td>\n      <td>1970.0</td>\n      <td>True</td>\n      <td>https://images.metmuseum.org/CRDImages/ad/orig...</td>\n      <td>https://images.metmuseum.org/CRDImages/ad/web-...</td>\n      <td>[]</td>\n      <td>Clock</td>\n      <td>...</td>\n      <td>1850.0</td>\n      <td>Mahogany, laminated</td>\n      <td>24 3/8 x 14 5/8 x 5 1/8 in. (61.9 x 37.1 x 13 cm)</td>\n      <td>[{'elementName': 'Overall', 'elementDescriptio...</td>\n      <td>Gift of Mrs. Paul Moore, 1970</td>\n      <td>NaN</td>\n      <td>False</td>\n      <td>774.0</td>\n      <td>The American Wing</td>\n      <td>1082.0</td>\n    </tr>\n    <tr>\n      <th>1</th>\n      <td>1</td>\n      <td>37</td>\n      <td>False</td>\n      <td>38.165.51</td>\n      <td>1938.0</td>\n      <td>True</td>\n      <td>https://images.metmuseum.org/CRDImages/ad/orig...</td>\n      <td>https://images.metmuseum.org/CRDImages/ad/web-...</td>\n      <td>['https://images.metmuseum.org/CRDImages/ad/or...</td>\n      <td>Figure</td>\n      <td>...</td>\n      <td>1785.0</td>\n      <td>Earthenware, basalt</td>\n      <td>H. 12 in. (30.5 cm)</td>\n      <td>[{'elementName': 'Overall', 'elementDescriptio...</td>\n      <td>Harris Brisbane Dick Fund, 1938</td>\n      <td>NaN</td>\n      <td>False</td>\n      <td>774.0</td>\n      <td>The American Wing</td>\n      <td>164285.0</td>\n    </tr>\n    <tr>\n      <th>2</th>\n      <td>2</td>\n      <td>38</td>\n      <td>False</td>\n      <td>38.165.50</td>\n      <td>1938.0</td>\n      <td>True</td>\n      <td>https://images.metmuseum.org/CRDImages/ad/orig...</td>\n      <td>https://images.metmuseum.org/CRDImages/ad/web-...</td>\n      <td>['https://images.metmuseum.org/CRDImages/ad/or...</td>\n      <td>Figure</td>\n      <td>...</td>\n      <td>1785.0</td>\n      <td>Earthenware, basalt</td>\n      <td>H. 12 3/8 in. (31.4 cm)</td>\n      <td>[{'elementName': 'Overall', 'elementDescriptio...</td>\n      <td>Harris Brisbane Dick Fund, 1938</td>\n      <td>NaN</td>\n      <td>False</td>\n      <td>774.0</td>\n      <td>The American Wing</td>\n      <td>164285.0</td>\n    </tr>\n    <tr>\n      <th>3</th>\n      <td>3</td>\n      <td>39</td>\n      <td>False</td>\n      <td>18.11.10</td>\n      <td>1918.0</td>\n      <td>True</td>\n      <td>https://images.metmuseum.org/CRDImages/ad/orig...</td>\n      <td>https://images.metmuseum.org/CRDImages/ad/web-...</td>\n      <td>[]</td>\n      <td>Advertisement</td>\n      <td>...</td>\n      <td>1800.0</td>\n      <td>Paper</td>\n      <td>11 x 9 in. (27.9 x 22.9 cm)</td>\n      <td>[{'elementName': 'Overall', 'elementDescriptio...</td>\n      <td>Rogers Fund, 1918</td>\n      <td>NaN</td>\n      <td>False</td>\n      <td>NaN</td>\n      <td>The American Wing</td>\n      <td>NaN</td>\n    </tr>\n    <tr>\n      <th>4</th>\n      <td>4</td>\n      <td>40</td>\n      <td>False</td>\n      <td>46.140.143</td>\n      <td>1946.0</td>\n      <td>True</td>\n      <td>https://images.metmuseum.org/CRDImages/ad/orig...</td>\n      <td>https://images.metmuseum.org/CRDImages/ad/web-...</td>\n      <td>[]</td>\n      <td>Ale glass</td>\n      <td>...</td>\n      <td>1870.0</td>\n      <td>Pressed glass</td>\n      <td>H. 6 9/16 in. (16.7 cm); Diam. 3 in. (7.6 cm)</td>\n      <td>[{'elementName': 'Other', 'elementDescription'...</td>\n      <td>Gift of Mrs. Emily Winthrop Miles, 1946</td>\n      <td>NaN</td>\n      <td>False</td>\n      <td>774.0</td>\n      <td>The American Wing</td>\n      <td>1087.0</td>\n    </tr>\n  </tbody>\n</table>\n<p>5 rows × 28 columns</p>\n</div>"
     },
     "execution_count": 3,
     "metadata": {},
     "output_type": "execute_result"
    }
   ],
   "source": [
    "artifacts_df.head(5)"
   ],
   "metadata": {
    "collapsed": false
   }
  },
  {
   "cell_type": "code",
   "execution_count": 4,
   "outputs": [
    {
     "data": {
      "text/plain": "   Unnamed: 0 artistRole artistPrefix                  artistDisplayName  \\\n0           0      Maker          NaN  Forestville Manufacturing Company   \n1           1      Maker          NaN                     Pierre Stephan   \n2           4      Maker          NaN          New England Glass Company   \n3           5      Maker          NaN                Union Glass Company   \n4          50      Maker          NaN                        John Bailey   \n\n                                    artistDisplayBio artistSuffix  \\\n0                                          1835–1853          NaN   \n1                         French, active ca. 1770–95          NaN   \n2  American, East Cambridge, Massachusetts, 1818–...          NaN   \n3                American, Somerville, Massachusetts          NaN   \n4               American, active New York, 1736–1815          NaN   \n\n                     artistAlphaSort artistNationality artistBeginDate  \\\n0  Forestville Manufacturing Company          American          1835.0   \n1                    Stephan, Pierre            French          1765.0   \n2          New England Glass Company          American          1818.0   \n3                Union Glass Company          American             NaN   \n4                       Bailey, John          American          1736.0   \n\n  artistEndDate artistGender                       artistWikidata_URL  \\\n0        1853.0          NaN                                      NaN   \n1        1795.0          NaN                                      NaN   \n2        1888.0          NaN  https://www.wikidata.org/wiki/Q17083157   \n3           NaN          NaN  https://www.wikidata.org/wiki/Q18356496   \n4        1815.0          NaN                                      NaN   \n\n                               artistULAN_URL  constituentID  \n0                                         NaN         1082.0  \n1  http://vocab.getty.edu/page/ulan/500100483       164285.0  \n2  http://vocab.getty.edu/page/ulan/500356007         1087.0  \n3                              (not assigned)       162584.0  \n4  http://vocab.getty.edu/page/ulan/500524521       166052.0  ",
      "text/html": "<div>\n<style scoped>\n    .dataframe tbody tr th:only-of-type {\n        vertical-align: middle;\n    }\n\n    .dataframe tbody tr th {\n        vertical-align: top;\n    }\n\n    .dataframe thead th {\n        text-align: right;\n    }\n</style>\n<table border=\"1\" class=\"dataframe\">\n  <thead>\n    <tr style=\"text-align: right;\">\n      <th></th>\n      <th>Unnamed: 0</th>\n      <th>artistRole</th>\n      <th>artistPrefix</th>\n      <th>artistDisplayName</th>\n      <th>artistDisplayBio</th>\n      <th>artistSuffix</th>\n      <th>artistAlphaSort</th>\n      <th>artistNationality</th>\n      <th>artistBeginDate</th>\n      <th>artistEndDate</th>\n      <th>artistGender</th>\n      <th>artistWikidata_URL</th>\n      <th>artistULAN_URL</th>\n      <th>constituentID</th>\n    </tr>\n  </thead>\n  <tbody>\n    <tr>\n      <th>0</th>\n      <td>0</td>\n      <td>Maker</td>\n      <td>NaN</td>\n      <td>Forestville Manufacturing Company</td>\n      <td>1835–1853</td>\n      <td>NaN</td>\n      <td>Forestville Manufacturing Company</td>\n      <td>American</td>\n      <td>1835.0</td>\n      <td>1853.0</td>\n      <td>NaN</td>\n      <td>NaN</td>\n      <td>NaN</td>\n      <td>1082.0</td>\n    </tr>\n    <tr>\n      <th>1</th>\n      <td>1</td>\n      <td>Maker</td>\n      <td>NaN</td>\n      <td>Pierre Stephan</td>\n      <td>French, active ca. 1770–95</td>\n      <td>NaN</td>\n      <td>Stephan, Pierre</td>\n      <td>French</td>\n      <td>1765.0</td>\n      <td>1795.0</td>\n      <td>NaN</td>\n      <td>NaN</td>\n      <td>http://vocab.getty.edu/page/ulan/500100483</td>\n      <td>164285.0</td>\n    </tr>\n    <tr>\n      <th>2</th>\n      <td>4</td>\n      <td>Maker</td>\n      <td>NaN</td>\n      <td>New England Glass Company</td>\n      <td>American, East Cambridge, Massachusetts, 1818–...</td>\n      <td>NaN</td>\n      <td>New England Glass Company</td>\n      <td>American</td>\n      <td>1818.0</td>\n      <td>1888.0</td>\n      <td>NaN</td>\n      <td>https://www.wikidata.org/wiki/Q17083157</td>\n      <td>http://vocab.getty.edu/page/ulan/500356007</td>\n      <td>1087.0</td>\n    </tr>\n    <tr>\n      <th>3</th>\n      <td>5</td>\n      <td>Maker</td>\n      <td>NaN</td>\n      <td>Union Glass Company</td>\n      <td>American, Somerville, Massachusetts</td>\n      <td>NaN</td>\n      <td>Union Glass Company</td>\n      <td>American</td>\n      <td>NaN</td>\n      <td>NaN</td>\n      <td>NaN</td>\n      <td>https://www.wikidata.org/wiki/Q18356496</td>\n      <td>(not assigned)</td>\n      <td>162584.0</td>\n    </tr>\n    <tr>\n      <th>4</th>\n      <td>50</td>\n      <td>Maker</td>\n      <td>NaN</td>\n      <td>John Bailey</td>\n      <td>American, active New York, 1736–1815</td>\n      <td>NaN</td>\n      <td>Bailey, John</td>\n      <td>American</td>\n      <td>1736.0</td>\n      <td>1815.0</td>\n      <td>NaN</td>\n      <td>NaN</td>\n      <td>http://vocab.getty.edu/page/ulan/500524521</td>\n      <td>166052.0</td>\n    </tr>\n  </tbody>\n</table>\n</div>"
     },
     "execution_count": 4,
     "metadata": {},
     "output_type": "execute_result"
    }
   ],
   "source": [
    "artists_df.head(5)"
   ],
   "metadata": {
    "collapsed": false
   }
  },
  {
   "cell_type": "code",
   "execution_count": 9,
   "outputs": [
    {
     "data": {
      "text/plain": "Unnamed: 0             int64\nobjectID              object\nisHighlight           object\naccessionNumber       object\naccessionYear         object\nisPublicDomain        object\nprimaryImage          object\nprimaryImageSmall     object\nadditionalImages      object\nobjectName            object\ntitle                 object\nculture               object\nperiod                object\ndynasty               object\nreign                 object\nportfolio             object\nobjectDate            object\nobjectBeginDate      float64\nobjectEndDate        float64\nmedium                object\ndimensions            object\nmeasurements          object\ncreditLine            object\nclassification        object\nisTimelineWork        object\nGalleryNumber         object\ndepartment            object\nconstituentID        float64\ndtype: object"
     },
     "execution_count": 9,
     "metadata": {},
     "output_type": "execute_result"
    }
   ],
   "source": [
    "artifacts_df.dtypes"
   ],
   "metadata": {
    "collapsed": false
   }
  },
  {
   "cell_type": "code",
   "execution_count": 10,
   "outputs": [
    {
     "data": {
      "text/plain": "   Unnamed: 0 objectID isHighlight accessionNumber accessionYear  \\\n0           0       34       False      1970.289.6        1970.0   \n1           1       37       False       38.165.51        1938.0   \n2           2       38       False       38.165.50        1938.0   \n3           3       39       False        18.11.10        1918.0   \n4           4       40       False      46.140.143        1946.0   \n\n  isPublicDomain                                       primaryImage  \\\n0           True  https://images.metmuseum.org/CRDImages/ad/orig...   \n1           True  https://images.metmuseum.org/CRDImages/ad/orig...   \n2           True  https://images.metmuseum.org/CRDImages/ad/orig...   \n3           True  https://images.metmuseum.org/CRDImages/ad/orig...   \n4           True  https://images.metmuseum.org/CRDImages/ad/orig...   \n\n                                   primaryImageSmall  \\\n0  https://images.metmuseum.org/CRDImages/ad/web-...   \n1  https://images.metmuseum.org/CRDImages/ad/web-...   \n2  https://images.metmuseum.org/CRDImages/ad/web-...   \n3  https://images.metmuseum.org/CRDImages/ad/web-...   \n4  https://images.metmuseum.org/CRDImages/ad/web-...   \n\n                                    additionalImages     objectName  ...  \\\n0                                                 []          Clock  ...   \n1  ['https://images.metmuseum.org/CRDImages/ad/or...         Figure  ...   \n2  ['https://images.metmuseum.org/CRDImages/ad/or...         Figure  ...   \n3                                                 []  Advertisement  ...   \n4                                                 []      Ale glass  ...   \n\n  objectEndDate               medium  \\\n0        1850.0  Mahogany, laminated   \n1        1785.0  Earthenware, basalt   \n2        1785.0  Earthenware, basalt   \n3        1800.0                Paper   \n4        1870.0        Pressed glass   \n\n                                          dimensions  \\\n0  24 3/8 x 14 5/8 x 5 1/8 in. (61.9 x 37.1 x 13 cm)   \n1                                H. 12 in. (30.5 cm)   \n2                            H. 12 3/8 in. (31.4 cm)   \n3                        11 x 9 in. (27.9 x 22.9 cm)   \n4      H. 6 9/16 in. (16.7 cm); Diam. 3 in. (7.6 cm)   \n\n                                        measurements  \\\n0  [{'elementName': 'Overall', 'elementDescriptio...   \n1  [{'elementName': 'Overall', 'elementDescriptio...   \n2  [{'elementName': 'Overall', 'elementDescriptio...   \n3  [{'elementName': 'Overall', 'elementDescriptio...   \n4  [{'elementName': 'Other', 'elementDescription'...   \n\n                                creditLine classification isTimelineWork  \\\n0            Gift of Mrs. Paul Moore, 1970            NaN          False   \n1          Harris Brisbane Dick Fund, 1938            NaN          False   \n2          Harris Brisbane Dick Fund, 1938            NaN          False   \n3                        Rogers Fund, 1918            NaN          False   \n4  Gift of Mrs. Emily Winthrop Miles, 1946            NaN          False   \n\n   GalleryNumber         department constituentID  \n0          774.0  The American Wing        1082.0  \n1          774.0  The American Wing      164285.0  \n2          774.0  The American Wing      164285.0  \n3            NaN  The American Wing           NaN  \n4          774.0  The American Wing        1087.0  \n\n[5 rows x 28 columns]",
      "text/html": "<div>\n<style scoped>\n    .dataframe tbody tr th:only-of-type {\n        vertical-align: middle;\n    }\n\n    .dataframe tbody tr th {\n        vertical-align: top;\n    }\n\n    .dataframe thead th {\n        text-align: right;\n    }\n</style>\n<table border=\"1\" class=\"dataframe\">\n  <thead>\n    <tr style=\"text-align: right;\">\n      <th></th>\n      <th>Unnamed: 0</th>\n      <th>objectID</th>\n      <th>isHighlight</th>\n      <th>accessionNumber</th>\n      <th>accessionYear</th>\n      <th>isPublicDomain</th>\n      <th>primaryImage</th>\n      <th>primaryImageSmall</th>\n      <th>additionalImages</th>\n      <th>objectName</th>\n      <th>...</th>\n      <th>objectEndDate</th>\n      <th>medium</th>\n      <th>dimensions</th>\n      <th>measurements</th>\n      <th>creditLine</th>\n      <th>classification</th>\n      <th>isTimelineWork</th>\n      <th>GalleryNumber</th>\n      <th>department</th>\n      <th>constituentID</th>\n    </tr>\n  </thead>\n  <tbody>\n    <tr>\n      <th>0</th>\n      <td>0</td>\n      <td>34</td>\n      <td>False</td>\n      <td>1970.289.6</td>\n      <td>1970.0</td>\n      <td>True</td>\n      <td>https://images.metmuseum.org/CRDImages/ad/orig...</td>\n      <td>https://images.metmuseum.org/CRDImages/ad/web-...</td>\n      <td>[]</td>\n      <td>Clock</td>\n      <td>...</td>\n      <td>1850.0</td>\n      <td>Mahogany, laminated</td>\n      <td>24 3/8 x 14 5/8 x 5 1/8 in. (61.9 x 37.1 x 13 cm)</td>\n      <td>[{'elementName': 'Overall', 'elementDescriptio...</td>\n      <td>Gift of Mrs. Paul Moore, 1970</td>\n      <td>NaN</td>\n      <td>False</td>\n      <td>774.0</td>\n      <td>The American Wing</td>\n      <td>1082.0</td>\n    </tr>\n    <tr>\n      <th>1</th>\n      <td>1</td>\n      <td>37</td>\n      <td>False</td>\n      <td>38.165.51</td>\n      <td>1938.0</td>\n      <td>True</td>\n      <td>https://images.metmuseum.org/CRDImages/ad/orig...</td>\n      <td>https://images.metmuseum.org/CRDImages/ad/web-...</td>\n      <td>['https://images.metmuseum.org/CRDImages/ad/or...</td>\n      <td>Figure</td>\n      <td>...</td>\n      <td>1785.0</td>\n      <td>Earthenware, basalt</td>\n      <td>H. 12 in. (30.5 cm)</td>\n      <td>[{'elementName': 'Overall', 'elementDescriptio...</td>\n      <td>Harris Brisbane Dick Fund, 1938</td>\n      <td>NaN</td>\n      <td>False</td>\n      <td>774.0</td>\n      <td>The American Wing</td>\n      <td>164285.0</td>\n    </tr>\n    <tr>\n      <th>2</th>\n      <td>2</td>\n      <td>38</td>\n      <td>False</td>\n      <td>38.165.50</td>\n      <td>1938.0</td>\n      <td>True</td>\n      <td>https://images.metmuseum.org/CRDImages/ad/orig...</td>\n      <td>https://images.metmuseum.org/CRDImages/ad/web-...</td>\n      <td>['https://images.metmuseum.org/CRDImages/ad/or...</td>\n      <td>Figure</td>\n      <td>...</td>\n      <td>1785.0</td>\n      <td>Earthenware, basalt</td>\n      <td>H. 12 3/8 in. (31.4 cm)</td>\n      <td>[{'elementName': 'Overall', 'elementDescriptio...</td>\n      <td>Harris Brisbane Dick Fund, 1938</td>\n      <td>NaN</td>\n      <td>False</td>\n      <td>774.0</td>\n      <td>The American Wing</td>\n      <td>164285.0</td>\n    </tr>\n    <tr>\n      <th>3</th>\n      <td>3</td>\n      <td>39</td>\n      <td>False</td>\n      <td>18.11.10</td>\n      <td>1918.0</td>\n      <td>True</td>\n      <td>https://images.metmuseum.org/CRDImages/ad/orig...</td>\n      <td>https://images.metmuseum.org/CRDImages/ad/web-...</td>\n      <td>[]</td>\n      <td>Advertisement</td>\n      <td>...</td>\n      <td>1800.0</td>\n      <td>Paper</td>\n      <td>11 x 9 in. (27.9 x 22.9 cm)</td>\n      <td>[{'elementName': 'Overall', 'elementDescriptio...</td>\n      <td>Rogers Fund, 1918</td>\n      <td>NaN</td>\n      <td>False</td>\n      <td>NaN</td>\n      <td>The American Wing</td>\n      <td>NaN</td>\n    </tr>\n    <tr>\n      <th>4</th>\n      <td>4</td>\n      <td>40</td>\n      <td>False</td>\n      <td>46.140.143</td>\n      <td>1946.0</td>\n      <td>True</td>\n      <td>https://images.metmuseum.org/CRDImages/ad/orig...</td>\n      <td>https://images.metmuseum.org/CRDImages/ad/web-...</td>\n      <td>[]</td>\n      <td>Ale glass</td>\n      <td>...</td>\n      <td>1870.0</td>\n      <td>Pressed glass</td>\n      <td>H. 6 9/16 in. (16.7 cm); Diam. 3 in. (7.6 cm)</td>\n      <td>[{'elementName': 'Other', 'elementDescription'...</td>\n      <td>Gift of Mrs. Emily Winthrop Miles, 1946</td>\n      <td>NaN</td>\n      <td>False</td>\n      <td>774.0</td>\n      <td>The American Wing</td>\n      <td>1087.0</td>\n    </tr>\n  </tbody>\n</table>\n<p>5 rows × 28 columns</p>\n</div>"
     },
     "execution_count": 10,
     "metadata": {},
     "output_type": "execute_result"
    }
   ],
   "source": [
    "artifacts_df.head(5)"
   ],
   "metadata": {
    "collapsed": false
   }
  },
  {
   "cell_type": "code",
   "execution_count": null,
   "outputs": [],
   "source": [],
   "metadata": {
    "collapsed": false
   }
  },
  {
   "cell_type": "code",
   "execution_count": 11,
   "outputs": [
    {
     "data": {
      "text/plain": "   Unnamed: 0 artistRole artistPrefix                  artistDisplayName  \\\n0           0      Maker          NaN  Forestville Manufacturing Company   \n1           1      Maker          NaN                     Pierre Stephan   \n2           4      Maker          NaN          New England Glass Company   \n3           5      Maker          NaN                Union Glass Company   \n4          50      Maker          NaN                        John Bailey   \n\n                                    artistDisplayBio artistSuffix  \\\n0                                          1835–1853          NaN   \n1                         French, active ca. 1770–95          NaN   \n2  American, East Cambridge, Massachusetts, 1818–...          NaN   \n3                American, Somerville, Massachusetts          NaN   \n4               American, active New York, 1736–1815          NaN   \n\n                     artistAlphaSort artistNationality artistBeginDate  \\\n0  Forestville Manufacturing Company          American          1835.0   \n1                    Stephan, Pierre            French          1765.0   \n2          New England Glass Company          American          1818.0   \n3                Union Glass Company          American             NaN   \n4                       Bailey, John          American          1736.0   \n\n  artistEndDate artistGender                       artistWikidata_URL  \\\n0        1853.0          NaN                                      NaN   \n1        1795.0          NaN                                      NaN   \n2        1888.0          NaN  https://www.wikidata.org/wiki/Q17083157   \n3           NaN          NaN  https://www.wikidata.org/wiki/Q18356496   \n4        1815.0          NaN                                      NaN   \n\n                               artistULAN_URL  constituentID  \n0                                         NaN         1082.0  \n1  http://vocab.getty.edu/page/ulan/500100483       164285.0  \n2  http://vocab.getty.edu/page/ulan/500356007         1087.0  \n3                              (not assigned)       162584.0  \n4  http://vocab.getty.edu/page/ulan/500524521       166052.0  ",
      "text/html": "<div>\n<style scoped>\n    .dataframe tbody tr th:only-of-type {\n        vertical-align: middle;\n    }\n\n    .dataframe tbody tr th {\n        vertical-align: top;\n    }\n\n    .dataframe thead th {\n        text-align: right;\n    }\n</style>\n<table border=\"1\" class=\"dataframe\">\n  <thead>\n    <tr style=\"text-align: right;\">\n      <th></th>\n      <th>Unnamed: 0</th>\n      <th>artistRole</th>\n      <th>artistPrefix</th>\n      <th>artistDisplayName</th>\n      <th>artistDisplayBio</th>\n      <th>artistSuffix</th>\n      <th>artistAlphaSort</th>\n      <th>artistNationality</th>\n      <th>artistBeginDate</th>\n      <th>artistEndDate</th>\n      <th>artistGender</th>\n      <th>artistWikidata_URL</th>\n      <th>artistULAN_URL</th>\n      <th>constituentID</th>\n    </tr>\n  </thead>\n  <tbody>\n    <tr>\n      <th>0</th>\n      <td>0</td>\n      <td>Maker</td>\n      <td>NaN</td>\n      <td>Forestville Manufacturing Company</td>\n      <td>1835–1853</td>\n      <td>NaN</td>\n      <td>Forestville Manufacturing Company</td>\n      <td>American</td>\n      <td>1835.0</td>\n      <td>1853.0</td>\n      <td>NaN</td>\n      <td>NaN</td>\n      <td>NaN</td>\n      <td>1082.0</td>\n    </tr>\n    <tr>\n      <th>1</th>\n      <td>1</td>\n      <td>Maker</td>\n      <td>NaN</td>\n      <td>Pierre Stephan</td>\n      <td>French, active ca. 1770–95</td>\n      <td>NaN</td>\n      <td>Stephan, Pierre</td>\n      <td>French</td>\n      <td>1765.0</td>\n      <td>1795.0</td>\n      <td>NaN</td>\n      <td>NaN</td>\n      <td>http://vocab.getty.edu/page/ulan/500100483</td>\n      <td>164285.0</td>\n    </tr>\n    <tr>\n      <th>2</th>\n      <td>4</td>\n      <td>Maker</td>\n      <td>NaN</td>\n      <td>New England Glass Company</td>\n      <td>American, East Cambridge, Massachusetts, 1818–...</td>\n      <td>NaN</td>\n      <td>New England Glass Company</td>\n      <td>American</td>\n      <td>1818.0</td>\n      <td>1888.0</td>\n      <td>NaN</td>\n      <td>https://www.wikidata.org/wiki/Q17083157</td>\n      <td>http://vocab.getty.edu/page/ulan/500356007</td>\n      <td>1087.0</td>\n    </tr>\n    <tr>\n      <th>3</th>\n      <td>5</td>\n      <td>Maker</td>\n      <td>NaN</td>\n      <td>Union Glass Company</td>\n      <td>American, Somerville, Massachusetts</td>\n      <td>NaN</td>\n      <td>Union Glass Company</td>\n      <td>American</td>\n      <td>NaN</td>\n      <td>NaN</td>\n      <td>NaN</td>\n      <td>https://www.wikidata.org/wiki/Q18356496</td>\n      <td>(not assigned)</td>\n      <td>162584.0</td>\n    </tr>\n    <tr>\n      <th>4</th>\n      <td>50</td>\n      <td>Maker</td>\n      <td>NaN</td>\n      <td>John Bailey</td>\n      <td>American, active New York, 1736–1815</td>\n      <td>NaN</td>\n      <td>Bailey, John</td>\n      <td>American</td>\n      <td>1736.0</td>\n      <td>1815.0</td>\n      <td>NaN</td>\n      <td>NaN</td>\n      <td>http://vocab.getty.edu/page/ulan/500524521</td>\n      <td>166052.0</td>\n    </tr>\n  </tbody>\n</table>\n</div>"
     },
     "execution_count": 11,
     "metadata": {},
     "output_type": "execute_result"
    }
   ],
   "source": [
    "artists_df.head(5)"
   ],
   "metadata": {
    "collapsed": false
   }
  },
  {
   "cell_type": "code",
   "execution_count": 12,
   "outputs": [
    {
     "data": {
      "text/plain": "   Unnamed: 0                              department\n0           0                       The American Wing\n1        5590  European Sculpture and Decorative Arts\n2        6608             Modern and Contemporary Art\n3        7245                       Costume Institute\n4        7312                             Islamic Art",
      "text/html": "<div>\n<style scoped>\n    .dataframe tbody tr th:only-of-type {\n        vertical-align: middle;\n    }\n\n    .dataframe tbody tr th {\n        vertical-align: top;\n    }\n\n    .dataframe thead th {\n        text-align: right;\n    }\n</style>\n<table border=\"1\" class=\"dataframe\">\n  <thead>\n    <tr style=\"text-align: right;\">\n      <th></th>\n      <th>Unnamed: 0</th>\n      <th>department</th>\n    </tr>\n  </thead>\n  <tbody>\n    <tr>\n      <th>0</th>\n      <td>0</td>\n      <td>The American Wing</td>\n    </tr>\n    <tr>\n      <th>1</th>\n      <td>5590</td>\n      <td>European Sculpture and Decorative Arts</td>\n    </tr>\n    <tr>\n      <th>2</th>\n      <td>6608</td>\n      <td>Modern and Contemporary Art</td>\n    </tr>\n    <tr>\n      <th>3</th>\n      <td>7245</td>\n      <td>Costume Institute</td>\n    </tr>\n    <tr>\n      <th>4</th>\n      <td>7312</td>\n      <td>Islamic Art</td>\n    </tr>\n  </tbody>\n</table>\n</div>"
     },
     "execution_count": 12,
     "metadata": {},
     "output_type": "execute_result"
    }
   ],
   "source": [
    "departments_df.head(5)"
   ],
   "metadata": {
    "collapsed": false
   }
  },
  {
   "cell_type": "code",
   "execution_count": 16,
   "outputs": [
    {
     "data": {
      "text/plain": "   Unnamed: 0 objectID geographyType            city          state  \\\n0           0       34       Made in         Bristol    Connecticut   \n1           1       37       Made in             NaN            NaN   \n2           2       38       Made in             NaN            NaN   \n3           3       39       Made in         Norwich    Connecticut   \n4           4       40       Made in  East Cambridge  Massachusetts   \n\n          county        country         region subregion locale locus  \\\n0            NaN  United States    New England       NaN    NaN   NaN   \n1  Staffordshire        England  West Midlands       NaN    NaN   NaN   \n2  Staffordshire        England  West Midlands       NaN    NaN   NaN   \n3            NaN  United States    New England       NaN    NaN   NaN   \n4            NaN  United States    New England       NaN    NaN   NaN   \n\n  excavation river  \n0        NaN   NaN  \n1        NaN   NaN  \n2        NaN   NaN  \n3        NaN   NaN  \n4        NaN   NaN  ",
      "text/html": "<div>\n<style scoped>\n    .dataframe tbody tr th:only-of-type {\n        vertical-align: middle;\n    }\n\n    .dataframe tbody tr th {\n        vertical-align: top;\n    }\n\n    .dataframe thead th {\n        text-align: right;\n    }\n</style>\n<table border=\"1\" class=\"dataframe\">\n  <thead>\n    <tr style=\"text-align: right;\">\n      <th></th>\n      <th>Unnamed: 0</th>\n      <th>objectID</th>\n      <th>geographyType</th>\n      <th>city</th>\n      <th>state</th>\n      <th>county</th>\n      <th>country</th>\n      <th>region</th>\n      <th>subregion</th>\n      <th>locale</th>\n      <th>locus</th>\n      <th>excavation</th>\n      <th>river</th>\n    </tr>\n  </thead>\n  <tbody>\n    <tr>\n      <th>0</th>\n      <td>0</td>\n      <td>34</td>\n      <td>Made in</td>\n      <td>Bristol</td>\n      <td>Connecticut</td>\n      <td>NaN</td>\n      <td>United States</td>\n      <td>New England</td>\n      <td>NaN</td>\n      <td>NaN</td>\n      <td>NaN</td>\n      <td>NaN</td>\n      <td>NaN</td>\n    </tr>\n    <tr>\n      <th>1</th>\n      <td>1</td>\n      <td>37</td>\n      <td>Made in</td>\n      <td>NaN</td>\n      <td>NaN</td>\n      <td>Staffordshire</td>\n      <td>England</td>\n      <td>West Midlands</td>\n      <td>NaN</td>\n      <td>NaN</td>\n      <td>NaN</td>\n      <td>NaN</td>\n      <td>NaN</td>\n    </tr>\n    <tr>\n      <th>2</th>\n      <td>2</td>\n      <td>38</td>\n      <td>Made in</td>\n      <td>NaN</td>\n      <td>NaN</td>\n      <td>Staffordshire</td>\n      <td>England</td>\n      <td>West Midlands</td>\n      <td>NaN</td>\n      <td>NaN</td>\n      <td>NaN</td>\n      <td>NaN</td>\n      <td>NaN</td>\n    </tr>\n    <tr>\n      <th>3</th>\n      <td>3</td>\n      <td>39</td>\n      <td>Made in</td>\n      <td>Norwich</td>\n      <td>Connecticut</td>\n      <td>NaN</td>\n      <td>United States</td>\n      <td>New England</td>\n      <td>NaN</td>\n      <td>NaN</td>\n      <td>NaN</td>\n      <td>NaN</td>\n      <td>NaN</td>\n    </tr>\n    <tr>\n      <th>4</th>\n      <td>4</td>\n      <td>40</td>\n      <td>Made in</td>\n      <td>East Cambridge</td>\n      <td>Massachusetts</td>\n      <td>NaN</td>\n      <td>United States</td>\n      <td>New England</td>\n      <td>NaN</td>\n      <td>NaN</td>\n      <td>NaN</td>\n      <td>NaN</td>\n      <td>NaN</td>\n    </tr>\n  </tbody>\n</table>\n</div>"
     },
     "execution_count": 16,
     "metadata": {},
     "output_type": "execute_result"
    }
   ],
   "source": [
    "location_df.head(5)"
   ],
   "metadata": {
    "collapsed": false
   }
  },
  {
   "cell_type": "code",
   "execution_count": 19,
   "outputs": [],
   "source": [
    "loca_cols = [\n",
    "    'geographyType',\n",
    "    'city',\n",
    "    'state',\n",
    "    'county',\n",
    "    'country',\n",
    "    'region',\n",
    "    'subregion',\n",
    "    'locale',\n",
    "    'locus',\n",
    "    'excavation',\n",
    "    'river'\n",
    "]"
   ],
   "metadata": {
    "collapsed": false
   }
  },
  {
   "cell_type": "code",
   "execution_count": 20,
   "outputs": [],
   "source": [
    "tmp_loc_df = location_df[loca_cols].drop_duplicates()"
   ],
   "metadata": {
    "collapsed": false
   }
  },
  {
   "cell_type": "code",
   "execution_count": 21,
   "outputs": [
    {
     "data": {
      "text/plain": "  geographyType            city          state         county        country  \\\n0       Made in         Bristol    Connecticut            NaN  United States   \n1       Made in             NaN            NaN  Staffordshire        England   \n3       Made in         Norwich    Connecticut            NaN  United States   \n4       Made in  East Cambridge  Massachusetts            NaN  United States   \n5       Made in      Somerville  Massachusetts            NaN  United States   \n\n          region subregion locale locus excavation river  \n0    New England       NaN    NaN   NaN        NaN   NaN  \n1  West Midlands       NaN    NaN   NaN        NaN   NaN  \n3    New England       NaN    NaN   NaN        NaN   NaN  \n4    New England       NaN    NaN   NaN        NaN   NaN  \n5    New England       NaN    NaN   NaN        NaN   NaN  ",
      "text/html": "<div>\n<style scoped>\n    .dataframe tbody tr th:only-of-type {\n        vertical-align: middle;\n    }\n\n    .dataframe tbody tr th {\n        vertical-align: top;\n    }\n\n    .dataframe thead th {\n        text-align: right;\n    }\n</style>\n<table border=\"1\" class=\"dataframe\">\n  <thead>\n    <tr style=\"text-align: right;\">\n      <th></th>\n      <th>geographyType</th>\n      <th>city</th>\n      <th>state</th>\n      <th>county</th>\n      <th>country</th>\n      <th>region</th>\n      <th>subregion</th>\n      <th>locale</th>\n      <th>locus</th>\n      <th>excavation</th>\n      <th>river</th>\n    </tr>\n  </thead>\n  <tbody>\n    <tr>\n      <th>0</th>\n      <td>Made in</td>\n      <td>Bristol</td>\n      <td>Connecticut</td>\n      <td>NaN</td>\n      <td>United States</td>\n      <td>New England</td>\n      <td>NaN</td>\n      <td>NaN</td>\n      <td>NaN</td>\n      <td>NaN</td>\n      <td>NaN</td>\n    </tr>\n    <tr>\n      <th>1</th>\n      <td>Made in</td>\n      <td>NaN</td>\n      <td>NaN</td>\n      <td>Staffordshire</td>\n      <td>England</td>\n      <td>West Midlands</td>\n      <td>NaN</td>\n      <td>NaN</td>\n      <td>NaN</td>\n      <td>NaN</td>\n      <td>NaN</td>\n    </tr>\n    <tr>\n      <th>3</th>\n      <td>Made in</td>\n      <td>Norwich</td>\n      <td>Connecticut</td>\n      <td>NaN</td>\n      <td>United States</td>\n      <td>New England</td>\n      <td>NaN</td>\n      <td>NaN</td>\n      <td>NaN</td>\n      <td>NaN</td>\n      <td>NaN</td>\n    </tr>\n    <tr>\n      <th>4</th>\n      <td>Made in</td>\n      <td>East Cambridge</td>\n      <td>Massachusetts</td>\n      <td>NaN</td>\n      <td>United States</td>\n      <td>New England</td>\n      <td>NaN</td>\n      <td>NaN</td>\n      <td>NaN</td>\n      <td>NaN</td>\n      <td>NaN</td>\n    </tr>\n    <tr>\n      <th>5</th>\n      <td>Made in</td>\n      <td>Somerville</td>\n      <td>Massachusetts</td>\n      <td>NaN</td>\n      <td>United States</td>\n      <td>New England</td>\n      <td>NaN</td>\n      <td>NaN</td>\n      <td>NaN</td>\n      <td>NaN</td>\n      <td>NaN</td>\n    </tr>\n  </tbody>\n</table>\n</div>"
     },
     "execution_count": 21,
     "metadata": {},
     "output_type": "execute_result"
    }
   ],
   "source": [
    "tmp_loc_df.head(5)"
   ],
   "metadata": {
    "collapsed": false
   }
  },
  {
   "cell_type": "code",
   "execution_count": 22,
   "outputs": [
    {
     "data": {
      "text/plain": "(4127, 11)"
     },
     "execution_count": 22,
     "metadata": {},
     "output_type": "execute_result"
    }
   ],
   "source": [
    "tmp_loc_df.shape"
   ],
   "metadata": {
    "collapsed": false
   }
  },
  {
   "cell_type": "code",
   "execution_count": 23,
   "outputs": [
    {
     "data": {
      "text/plain": "(194597, 13)"
     },
     "execution_count": 23,
     "metadata": {},
     "output_type": "execute_result"
    }
   ],
   "source": [
    "location_df.shape"
   ],
   "metadata": {
    "collapsed": false
   }
  },
  {
   "cell_type": "code",
   "execution_count": 25,
   "outputs": [],
   "source": [
    "tmp_loc_df = tmp_loc_df.reset_index()"
   ],
   "metadata": {
    "collapsed": false
   }
  },
  {
   "cell_type": "code",
   "execution_count": 26,
   "outputs": [
    {
     "data": {
      "text/plain": "   location_id geographyType            city          state         county  \\\n0            0       Made in         Bristol    Connecticut            NaN   \n1            1       Made in             NaN            NaN  Staffordshire   \n2            3       Made in         Norwich    Connecticut            NaN   \n3            4       Made in  East Cambridge  Massachusetts            NaN   \n4            5       Made in      Somerville  Massachusetts            NaN   \n\n         country         region subregion locale locus excavation river  \n0  United States    New England       NaN    NaN   NaN        NaN   NaN  \n1        England  West Midlands       NaN    NaN   NaN        NaN   NaN  \n2  United States    New England       NaN    NaN   NaN        NaN   NaN  \n3  United States    New England       NaN    NaN   NaN        NaN   NaN  \n4  United States    New England       NaN    NaN   NaN        NaN   NaN  ",
      "text/html": "<div>\n<style scoped>\n    .dataframe tbody tr th:only-of-type {\n        vertical-align: middle;\n    }\n\n    .dataframe tbody tr th {\n        vertical-align: top;\n    }\n\n    .dataframe thead th {\n        text-align: right;\n    }\n</style>\n<table border=\"1\" class=\"dataframe\">\n  <thead>\n    <tr style=\"text-align: right;\">\n      <th></th>\n      <th>location_id</th>\n      <th>geographyType</th>\n      <th>city</th>\n      <th>state</th>\n      <th>county</th>\n      <th>country</th>\n      <th>region</th>\n      <th>subregion</th>\n      <th>locale</th>\n      <th>locus</th>\n      <th>excavation</th>\n      <th>river</th>\n    </tr>\n  </thead>\n  <tbody>\n    <tr>\n      <th>0</th>\n      <td>0</td>\n      <td>Made in</td>\n      <td>Bristol</td>\n      <td>Connecticut</td>\n      <td>NaN</td>\n      <td>United States</td>\n      <td>New England</td>\n      <td>NaN</td>\n      <td>NaN</td>\n      <td>NaN</td>\n      <td>NaN</td>\n      <td>NaN</td>\n    </tr>\n    <tr>\n      <th>1</th>\n      <td>1</td>\n      <td>Made in</td>\n      <td>NaN</td>\n      <td>NaN</td>\n      <td>Staffordshire</td>\n      <td>England</td>\n      <td>West Midlands</td>\n      <td>NaN</td>\n      <td>NaN</td>\n      <td>NaN</td>\n      <td>NaN</td>\n      <td>NaN</td>\n    </tr>\n    <tr>\n      <th>2</th>\n      <td>3</td>\n      <td>Made in</td>\n      <td>Norwich</td>\n      <td>Connecticut</td>\n      <td>NaN</td>\n      <td>United States</td>\n      <td>New England</td>\n      <td>NaN</td>\n      <td>NaN</td>\n      <td>NaN</td>\n      <td>NaN</td>\n      <td>NaN</td>\n    </tr>\n    <tr>\n      <th>3</th>\n      <td>4</td>\n      <td>Made in</td>\n      <td>East Cambridge</td>\n      <td>Massachusetts</td>\n      <td>NaN</td>\n      <td>United States</td>\n      <td>New England</td>\n      <td>NaN</td>\n      <td>NaN</td>\n      <td>NaN</td>\n      <td>NaN</td>\n      <td>NaN</td>\n    </tr>\n    <tr>\n      <th>4</th>\n      <td>5</td>\n      <td>Made in</td>\n      <td>Somerville</td>\n      <td>Massachusetts</td>\n      <td>NaN</td>\n      <td>United States</td>\n      <td>New England</td>\n      <td>NaN</td>\n      <td>NaN</td>\n      <td>NaN</td>\n      <td>NaN</td>\n      <td>NaN</td>\n    </tr>\n  </tbody>\n</table>\n</div>"
     },
     "execution_count": 26,
     "metadata": {},
     "output_type": "execute_result"
    }
   ],
   "source": [
    "tmp_loc_df.rename(columns={'index': 'location_id'}, inplace=True)\n",
    "tmp_loc_df.head(5)"
   ],
   "metadata": {
    "collapsed": false
   }
  },
  {
   "cell_type": "code",
   "execution_count": 29,
   "outputs": [
    {
     "data": {
      "text/plain": "(194597, 28)"
     },
     "execution_count": 29,
     "metadata": {},
     "output_type": "execute_result"
    }
   ],
   "source": [
    "artifacts_df.shape"
   ],
   "metadata": {
    "collapsed": false
   }
  },
  {
   "cell_type": "code",
   "execution_count": 34,
   "outputs": [],
   "source": [
    "artifacts_df.drop(columns=\"Unnamed: 0\", inplace=True)\n",
    "location_df.drop(columns=\"Unnamed: 0\", inplace=True)"
   ],
   "metadata": {
    "collapsed": false
   }
  },
  {
   "cell_type": "code",
   "execution_count": 37,
   "outputs": [
    {
     "data": {
      "text/plain": "(194597, 27)"
     },
     "execution_count": 37,
     "metadata": {},
     "output_type": "execute_result"
    }
   ],
   "source": [
    "artifacts_df.shape"
   ],
   "metadata": {
    "collapsed": false
   }
  },
  {
   "cell_type": "code",
   "execution_count": 38,
   "outputs": [
    {
     "data": {
      "text/plain": "(194597, 12)"
     },
     "execution_count": 38,
     "metadata": {},
     "output_type": "execute_result"
    }
   ],
   "source": [
    "location_df.shape"
   ],
   "metadata": {
    "collapsed": false
   }
  },
  {
   "cell_type": "code",
   "execution_count": 35,
   "outputs": [],
   "source": [
    "tmp_artifact_df = artifacts_df.merge(location_df, on='objectID', how='left')"
   ],
   "metadata": {
    "collapsed": false
   }
  },
  {
   "cell_type": "code",
   "execution_count": 40,
   "outputs": [
    {
     "data": {
      "text/plain": "(194597, 38)"
     },
     "execution_count": 40,
     "metadata": {},
     "output_type": "execute_result"
    }
   ],
   "source": [
    "tmp_artifact_df.shape"
   ],
   "metadata": {
    "collapsed": false
   }
  },
  {
   "cell_type": "code",
   "execution_count": 36,
   "outputs": [
    {
     "data": {
      "text/plain": "  objectID isHighlight accessionNumber accessionYear isPublicDomain  \\\n0       34       False      1970.289.6        1970.0           True   \n1       37       False       38.165.51        1938.0           True   \n2       38       False       38.165.50        1938.0           True   \n3       39       False        18.11.10        1918.0           True   \n4       40       False      46.140.143        1946.0           True   \n\n                                        primaryImage  \\\n0  https://images.metmuseum.org/CRDImages/ad/orig...   \n1  https://images.metmuseum.org/CRDImages/ad/orig...   \n2  https://images.metmuseum.org/CRDImages/ad/orig...   \n3  https://images.metmuseum.org/CRDImages/ad/orig...   \n4  https://images.metmuseum.org/CRDImages/ad/orig...   \n\n                                   primaryImageSmall  \\\n0  https://images.metmuseum.org/CRDImages/ad/web-...   \n1  https://images.metmuseum.org/CRDImages/ad/web-...   \n2  https://images.metmuseum.org/CRDImages/ad/web-...   \n3  https://images.metmuseum.org/CRDImages/ad/web-...   \n4  https://images.metmuseum.org/CRDImages/ad/web-...   \n\n                                    additionalImages     objectName  \\\n0                                                 []          Clock   \n1  ['https://images.metmuseum.org/CRDImages/ad/or...         Figure   \n2  ['https://images.metmuseum.org/CRDImages/ad/or...         Figure   \n3                                                 []  Advertisement   \n4                                                 []      Ale glass   \n\n                                          title  ...            city  \\\n0                                   Acorn Clock  ...         Bristol   \n1               Figure of Admiral George Rodney  ...             NaN   \n2                 Figure of Admiral Samuel Hood  ...             NaN   \n3  Advertisement for Norwich Stone Ware Factory  ...         Norwich   \n4                                     Ale Glass  ...  East Cambridge   \n\n           state         county        country         region subregion  \\\n0    Connecticut            NaN  United States    New England       NaN   \n1            NaN  Staffordshire        England  West Midlands       NaN   \n2            NaN  Staffordshire        England  West Midlands       NaN   \n3    Connecticut            NaN  United States    New England       NaN   \n4  Massachusetts            NaN  United States    New England       NaN   \n\n   locale  locus excavation river  \n0     NaN    NaN        NaN   NaN  \n1     NaN    NaN        NaN   NaN  \n2     NaN    NaN        NaN   NaN  \n3     NaN    NaN        NaN   NaN  \n4     NaN    NaN        NaN   NaN  \n\n[5 rows x 38 columns]",
      "text/html": "<div>\n<style scoped>\n    .dataframe tbody tr th:only-of-type {\n        vertical-align: middle;\n    }\n\n    .dataframe tbody tr th {\n        vertical-align: top;\n    }\n\n    .dataframe thead th {\n        text-align: right;\n    }\n</style>\n<table border=\"1\" class=\"dataframe\">\n  <thead>\n    <tr style=\"text-align: right;\">\n      <th></th>\n      <th>objectID</th>\n      <th>isHighlight</th>\n      <th>accessionNumber</th>\n      <th>accessionYear</th>\n      <th>isPublicDomain</th>\n      <th>primaryImage</th>\n      <th>primaryImageSmall</th>\n      <th>additionalImages</th>\n      <th>objectName</th>\n      <th>title</th>\n      <th>...</th>\n      <th>city</th>\n      <th>state</th>\n      <th>county</th>\n      <th>country</th>\n      <th>region</th>\n      <th>subregion</th>\n      <th>locale</th>\n      <th>locus</th>\n      <th>excavation</th>\n      <th>river</th>\n    </tr>\n  </thead>\n  <tbody>\n    <tr>\n      <th>0</th>\n      <td>34</td>\n      <td>False</td>\n      <td>1970.289.6</td>\n      <td>1970.0</td>\n      <td>True</td>\n      <td>https://images.metmuseum.org/CRDImages/ad/orig...</td>\n      <td>https://images.metmuseum.org/CRDImages/ad/web-...</td>\n      <td>[]</td>\n      <td>Clock</td>\n      <td>Acorn Clock</td>\n      <td>...</td>\n      <td>Bristol</td>\n      <td>Connecticut</td>\n      <td>NaN</td>\n      <td>United States</td>\n      <td>New England</td>\n      <td>NaN</td>\n      <td>NaN</td>\n      <td>NaN</td>\n      <td>NaN</td>\n      <td>NaN</td>\n    </tr>\n    <tr>\n      <th>1</th>\n      <td>37</td>\n      <td>False</td>\n      <td>38.165.51</td>\n      <td>1938.0</td>\n      <td>True</td>\n      <td>https://images.metmuseum.org/CRDImages/ad/orig...</td>\n      <td>https://images.metmuseum.org/CRDImages/ad/web-...</td>\n      <td>['https://images.metmuseum.org/CRDImages/ad/or...</td>\n      <td>Figure</td>\n      <td>Figure of Admiral George Rodney</td>\n      <td>...</td>\n      <td>NaN</td>\n      <td>NaN</td>\n      <td>Staffordshire</td>\n      <td>England</td>\n      <td>West Midlands</td>\n      <td>NaN</td>\n      <td>NaN</td>\n      <td>NaN</td>\n      <td>NaN</td>\n      <td>NaN</td>\n    </tr>\n    <tr>\n      <th>2</th>\n      <td>38</td>\n      <td>False</td>\n      <td>38.165.50</td>\n      <td>1938.0</td>\n      <td>True</td>\n      <td>https://images.metmuseum.org/CRDImages/ad/orig...</td>\n      <td>https://images.metmuseum.org/CRDImages/ad/web-...</td>\n      <td>['https://images.metmuseum.org/CRDImages/ad/or...</td>\n      <td>Figure</td>\n      <td>Figure of Admiral Samuel Hood</td>\n      <td>...</td>\n      <td>NaN</td>\n      <td>NaN</td>\n      <td>Staffordshire</td>\n      <td>England</td>\n      <td>West Midlands</td>\n      <td>NaN</td>\n      <td>NaN</td>\n      <td>NaN</td>\n      <td>NaN</td>\n      <td>NaN</td>\n    </tr>\n    <tr>\n      <th>3</th>\n      <td>39</td>\n      <td>False</td>\n      <td>18.11.10</td>\n      <td>1918.0</td>\n      <td>True</td>\n      <td>https://images.metmuseum.org/CRDImages/ad/orig...</td>\n      <td>https://images.metmuseum.org/CRDImages/ad/web-...</td>\n      <td>[]</td>\n      <td>Advertisement</td>\n      <td>Advertisement for Norwich Stone Ware Factory</td>\n      <td>...</td>\n      <td>Norwich</td>\n      <td>Connecticut</td>\n      <td>NaN</td>\n      <td>United States</td>\n      <td>New England</td>\n      <td>NaN</td>\n      <td>NaN</td>\n      <td>NaN</td>\n      <td>NaN</td>\n      <td>NaN</td>\n    </tr>\n    <tr>\n      <th>4</th>\n      <td>40</td>\n      <td>False</td>\n      <td>46.140.143</td>\n      <td>1946.0</td>\n      <td>True</td>\n      <td>https://images.metmuseum.org/CRDImages/ad/orig...</td>\n      <td>https://images.metmuseum.org/CRDImages/ad/web-...</td>\n      <td>[]</td>\n      <td>Ale glass</td>\n      <td>Ale Glass</td>\n      <td>...</td>\n      <td>East Cambridge</td>\n      <td>Massachusetts</td>\n      <td>NaN</td>\n      <td>United States</td>\n      <td>New England</td>\n      <td>NaN</td>\n      <td>NaN</td>\n      <td>NaN</td>\n      <td>NaN</td>\n      <td>NaN</td>\n    </tr>\n  </tbody>\n</table>\n<p>5 rows × 38 columns</p>\n</div>"
     },
     "execution_count": 36,
     "metadata": {},
     "output_type": "execute_result"
    }
   ],
   "source": [
    "tmp_artifact_df.head(5)"
   ],
   "metadata": {
    "collapsed": false
   }
  },
  {
   "cell_type": "code",
   "execution_count": 42,
   "outputs": [],
   "source": [
    "# tmp_loc_df.to_csv(\"../dataset/location_clean.csv\", index=False)\n",
    "\n",
    "m_artifact_df = tmp_artifact_df.merge(tmp_loc_df, on=loca_cols, how='left')"
   ],
   "metadata": {
    "collapsed": false
   }
  },
  {
   "cell_type": "code",
   "execution_count": 44,
   "outputs": [
    {
     "data": {
      "text/plain": "11"
     },
     "execution_count": 44,
     "metadata": {},
     "output_type": "execute_result"
    }
   ],
   "source": [
    "len(loca_cols)"
   ],
   "metadata": {
    "collapsed": false
   }
  },
  {
   "cell_type": "code",
   "execution_count": 45,
   "outputs": [],
   "source": [
    "m_artifact_df = m_artifact_df.drop(columns=loca_cols)"
   ],
   "metadata": {
    "collapsed": false
   }
  },
  {
   "cell_type": "code",
   "execution_count": 46,
   "outputs": [
    {
     "data": {
      "text/plain": "(194597, 28)"
     },
     "execution_count": 46,
     "metadata": {},
     "output_type": "execute_result"
    }
   ],
   "source": [
    "m_artifact_df.shape"
   ],
   "metadata": {
    "collapsed": false
   }
  },
  {
   "cell_type": "code",
   "execution_count": 48,
   "outputs": [],
   "source": [
    "m_artifact_df.to_csv(\"../dataset/artifacts_clean.csv\", index=False)"
   ],
   "metadata": {
    "collapsed": false
   }
  },
  {
   "cell_type": "code",
   "execution_count": 50,
   "outputs": [],
   "source": [
    "# tmp_loc_df.rename(columns={'location_id': 'locationID'}, inplace=True)"
   ],
   "metadata": {
    "collapsed": false
   }
  },
  {
   "cell_type": "code",
   "execution_count": 51,
   "outputs": [],
   "source": [
    "tmp_loc_df.to_csv(\"../dataset/location_clean.csv\", index=False)"
   ],
   "metadata": {
    "collapsed": false
   }
  },
  {
   "cell_type": "code",
   "execution_count": 52,
   "outputs": [
    {
     "data": {
      "text/plain": "   locationID geographyType            city          state         county  \\\n0           0       Made in         Bristol    Connecticut            NaN   \n1           1       Made in             NaN            NaN  Staffordshire   \n2           3       Made in         Norwich    Connecticut            NaN   \n3           4       Made in  East Cambridge  Massachusetts            NaN   \n4           5       Made in      Somerville  Massachusetts            NaN   \n\n         country         region subregion locale locus excavation river  \n0  United States    New England       NaN    NaN   NaN        NaN   NaN  \n1        England  West Midlands       NaN    NaN   NaN        NaN   NaN  \n2  United States    New England       NaN    NaN   NaN        NaN   NaN  \n3  United States    New England       NaN    NaN   NaN        NaN   NaN  \n4  United States    New England       NaN    NaN   NaN        NaN   NaN  ",
      "text/html": "<div>\n<style scoped>\n    .dataframe tbody tr th:only-of-type {\n        vertical-align: middle;\n    }\n\n    .dataframe tbody tr th {\n        vertical-align: top;\n    }\n\n    .dataframe thead th {\n        text-align: right;\n    }\n</style>\n<table border=\"1\" class=\"dataframe\">\n  <thead>\n    <tr style=\"text-align: right;\">\n      <th></th>\n      <th>locationID</th>\n      <th>geographyType</th>\n      <th>city</th>\n      <th>state</th>\n      <th>county</th>\n      <th>country</th>\n      <th>region</th>\n      <th>subregion</th>\n      <th>locale</th>\n      <th>locus</th>\n      <th>excavation</th>\n      <th>river</th>\n    </tr>\n  </thead>\n  <tbody>\n    <tr>\n      <th>0</th>\n      <td>0</td>\n      <td>Made in</td>\n      <td>Bristol</td>\n      <td>Connecticut</td>\n      <td>NaN</td>\n      <td>United States</td>\n      <td>New England</td>\n      <td>NaN</td>\n      <td>NaN</td>\n      <td>NaN</td>\n      <td>NaN</td>\n      <td>NaN</td>\n    </tr>\n    <tr>\n      <th>1</th>\n      <td>1</td>\n      <td>Made in</td>\n      <td>NaN</td>\n      <td>NaN</td>\n      <td>Staffordshire</td>\n      <td>England</td>\n      <td>West Midlands</td>\n      <td>NaN</td>\n      <td>NaN</td>\n      <td>NaN</td>\n      <td>NaN</td>\n      <td>NaN</td>\n    </tr>\n    <tr>\n      <th>2</th>\n      <td>3</td>\n      <td>Made in</td>\n      <td>Norwich</td>\n      <td>Connecticut</td>\n      <td>NaN</td>\n      <td>United States</td>\n      <td>New England</td>\n      <td>NaN</td>\n      <td>NaN</td>\n      <td>NaN</td>\n      <td>NaN</td>\n      <td>NaN</td>\n    </tr>\n    <tr>\n      <th>3</th>\n      <td>4</td>\n      <td>Made in</td>\n      <td>East Cambridge</td>\n      <td>Massachusetts</td>\n      <td>NaN</td>\n      <td>United States</td>\n      <td>New England</td>\n      <td>NaN</td>\n      <td>NaN</td>\n      <td>NaN</td>\n      <td>NaN</td>\n      <td>NaN</td>\n    </tr>\n    <tr>\n      <th>4</th>\n      <td>5</td>\n      <td>Made in</td>\n      <td>Somerville</td>\n      <td>Massachusetts</td>\n      <td>NaN</td>\n      <td>United States</td>\n      <td>New England</td>\n      <td>NaN</td>\n      <td>NaN</td>\n      <td>NaN</td>\n      <td>NaN</td>\n      <td>NaN</td>\n    </tr>\n  </tbody>\n</table>\n</div>"
     },
     "execution_count": 52,
     "metadata": {},
     "output_type": "execute_result"
    }
   ],
   "source": [
    "tmp_loc_df.head(5)"
   ],
   "metadata": {
    "collapsed": false
   }
  },
  {
   "cell_type": "code",
   "execution_count": 55,
   "outputs": [],
   "source": [
    "# metadata_df.drop(columns=\"Unnamed: 0\", inplace=True)\n",
    "# metadata_df.to_csv(\"../dataset/metadata.csv\", index=False)"
   ],
   "metadata": {
    "collapsed": false
   }
  },
  {
   "cell_type": "code",
   "execution_count": 56,
   "outputs": [
    {
     "data": {
      "text/plain": "  objectID  rightsAndReproduction  linkResource              metadataDate  \\\n0       34                    NaN           NaN   2023-02-07T04:46:51.34Z   \n1       37                    NaN           NaN   2023-02-07T04:46:51.34Z   \n2       38                    NaN           NaN   2023-02-07T04:46:51.34Z   \n3       39                    NaN           NaN  2021-04-06T04:41:04.967Z   \n4       40                    NaN           NaN   2023-02-07T04:46:51.34Z   \n\n                                 repository  \\\n0  Metropolitan Museum of Art, New York, NY   \n1  Metropolitan Museum of Art, New York, NY   \n2  Metropolitan Museum of Art, New York, NY   \n3  Metropolitan Museum of Art, New York, NY   \n4  Metropolitan Museum of Art, New York, NY   \n\n                                           objectURL  \\\n0  https://www.metmuseum.org/art/collection/searc...   \n1  https://www.metmuseum.org/art/collection/searc...   \n2  https://www.metmuseum.org/art/collection/searc...   \n3  https://www.metmuseum.org/art/collection/searc...   \n4  https://www.metmuseum.org/art/collection/searc...   \n\n                                                tags  \\\n0  [{'term': 'Boats', 'AAT_URL': 'http://vocab.ge...   \n1  [{'term': 'Cannons', 'AAT_URL': 'http://vocab....   \n2  [{'term': 'Cannons', 'AAT_URL': 'http://vocab....   \n3  [{'term': 'Advertisements', 'AAT_URL': 'http:/...   \n4                                                NaN   \n\n                         objectWikidata_URL  \n0  https://www.wikidata.org/wiki/Q116373732  \n1  https://www.wikidata.org/wiki/Q116373729  \n2  https://www.wikidata.org/wiki/Q116373728  \n3                                       NaN  \n4  https://www.wikidata.org/wiki/Q116373727  ",
      "text/html": "<div>\n<style scoped>\n    .dataframe tbody tr th:only-of-type {\n        vertical-align: middle;\n    }\n\n    .dataframe tbody tr th {\n        vertical-align: top;\n    }\n\n    .dataframe thead th {\n        text-align: right;\n    }\n</style>\n<table border=\"1\" class=\"dataframe\">\n  <thead>\n    <tr style=\"text-align: right;\">\n      <th></th>\n      <th>objectID</th>\n      <th>rightsAndReproduction</th>\n      <th>linkResource</th>\n      <th>metadataDate</th>\n      <th>repository</th>\n      <th>objectURL</th>\n      <th>tags</th>\n      <th>objectWikidata_URL</th>\n    </tr>\n  </thead>\n  <tbody>\n    <tr>\n      <th>0</th>\n      <td>34</td>\n      <td>NaN</td>\n      <td>NaN</td>\n      <td>2023-02-07T04:46:51.34Z</td>\n      <td>Metropolitan Museum of Art, New York, NY</td>\n      <td>https://www.metmuseum.org/art/collection/searc...</td>\n      <td>[{'term': 'Boats', 'AAT_URL': 'http://vocab.ge...</td>\n      <td>https://www.wikidata.org/wiki/Q116373732</td>\n    </tr>\n    <tr>\n      <th>1</th>\n      <td>37</td>\n      <td>NaN</td>\n      <td>NaN</td>\n      <td>2023-02-07T04:46:51.34Z</td>\n      <td>Metropolitan Museum of Art, New York, NY</td>\n      <td>https://www.metmuseum.org/art/collection/searc...</td>\n      <td>[{'term': 'Cannons', 'AAT_URL': 'http://vocab....</td>\n      <td>https://www.wikidata.org/wiki/Q116373729</td>\n    </tr>\n    <tr>\n      <th>2</th>\n      <td>38</td>\n      <td>NaN</td>\n      <td>NaN</td>\n      <td>2023-02-07T04:46:51.34Z</td>\n      <td>Metropolitan Museum of Art, New York, NY</td>\n      <td>https://www.metmuseum.org/art/collection/searc...</td>\n      <td>[{'term': 'Cannons', 'AAT_URL': 'http://vocab....</td>\n      <td>https://www.wikidata.org/wiki/Q116373728</td>\n    </tr>\n    <tr>\n      <th>3</th>\n      <td>39</td>\n      <td>NaN</td>\n      <td>NaN</td>\n      <td>2021-04-06T04:41:04.967Z</td>\n      <td>Metropolitan Museum of Art, New York, NY</td>\n      <td>https://www.metmuseum.org/art/collection/searc...</td>\n      <td>[{'term': 'Advertisements', 'AAT_URL': 'http:/...</td>\n      <td>NaN</td>\n    </tr>\n    <tr>\n      <th>4</th>\n      <td>40</td>\n      <td>NaN</td>\n      <td>NaN</td>\n      <td>2023-02-07T04:46:51.34Z</td>\n      <td>Metropolitan Museum of Art, New York, NY</td>\n      <td>https://www.metmuseum.org/art/collection/searc...</td>\n      <td>NaN</td>\n      <td>https://www.wikidata.org/wiki/Q116373727</td>\n    </tr>\n  </tbody>\n</table>\n</div>"
     },
     "execution_count": 56,
     "metadata": {},
     "output_type": "execute_result"
    }
   ],
   "source": [
    "metadata_df.head(5)"
   ],
   "metadata": {
    "collapsed": false
   }
  },
  {
   "cell_type": "code",
   "execution_count": null,
   "outputs": [],
   "source": [],
   "metadata": {
    "collapsed": false
   }
  }
 ],
 "metadata": {
  "kernelspec": {
   "display_name": "Python 3",
   "language": "python",
   "name": "python3"
  },
  "language_info": {
   "codemirror_mode": {
    "name": "ipython",
    "version": 2
   },
   "file_extension": ".py",
   "mimetype": "text/x-python",
   "name": "python",
   "nbconvert_exporter": "python",
   "pygments_lexer": "ipython2",
   "version": "2.7.6"
  }
 },
 "nbformat": 4,
 "nbformat_minor": 0
}
