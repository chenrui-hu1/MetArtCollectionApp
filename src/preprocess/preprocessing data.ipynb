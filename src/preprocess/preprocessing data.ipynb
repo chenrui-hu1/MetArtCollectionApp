{
 "cells": [
  {
   "cell_type": "code",
   "execution_count": 105,
   "metadata": {
    "collapsed": true
   },
   "outputs": [
    {
     "name": "stderr",
     "output_type": "stream",
     "text": [
      "/var/folders/pl/31lr7g6160j6gclk5kfqf6h80000gn/T/ipykernel_39658/1649591387.py:4: DtypeWarning: Columns (0,1,3,4,23,24) have mixed types. Specify dtype option on import or set low_memory=False.\n",
      "  artifacts = pd.read_csv('../../dataset/artifacts_clean.csv')\n",
      "/var/folders/pl/31lr7g6160j6gclk5kfqf6h80000gn/T/ipykernel_39658/1649591387.py:8: DtypeWarning: Columns (0) have mixed types. Specify dtype option on import or set low_memory=False.\n",
      "  metadata = pd.read_csv('../../dataset/metadata.csv')\n"
     ]
    }
   ],
   "source": [
    "import pandas as pd\n",
    "import numpy as np\n",
    "\n",
    "artifacts = pd.read_csv('../../dataset/artifacts_clean.csv')\n",
    "artists = pd.read_csv('../../dataset/artists.csv')\n",
    "departments = pd.read_csv('../../dataset/departments.csv')\n",
    "locations = pd.read_csv('../../dataset/location_clean.csv')\n",
    "metadata = pd.read_csv('../../dataset/metadata.csv')"
   ]
  },
  {
   "cell_type": "code",
   "execution_count": 106,
   "outputs": [
    {
     "data": {
      "text/plain": "  objectID isHighlight accessionNumber accessionYear isPublicDomain  \\\n0       34       False      1970.289.6        1970.0           True   \n1       37       False       38.165.51        1938.0           True   \n2       38       False       38.165.50        1938.0           True   \n\n                                        primaryImage  \\\n0  https://images.metmuseum.org/CRDImages/ad/orig...   \n1  https://images.metmuseum.org/CRDImages/ad/orig...   \n2  https://images.metmuseum.org/CRDImages/ad/orig...   \n\n                                   primaryImageSmall  \\\n0  https://images.metmuseum.org/CRDImages/ad/web-...   \n1  https://images.metmuseum.org/CRDImages/ad/web-...   \n2  https://images.metmuseum.org/CRDImages/ad/web-...   \n\n                                    additionalImages objectName  \\\n0                                                 []      Clock   \n1  ['https://images.metmuseum.org/CRDImages/ad/or...     Figure   \n2  ['https://images.metmuseum.org/CRDImages/ad/or...     Figure   \n\n                             title  ...               medium  \\\n0                      Acorn Clock  ...  Mahogany, laminated   \n1  Figure of Admiral George Rodney  ...  Earthenware, basalt   \n2    Figure of Admiral Samuel Hood  ...  Earthenware, basalt   \n\n                                          dimensions  \\\n0  24 3/8 x 14 5/8 x 5 1/8 in. (61.9 x 37.1 x 13 cm)   \n1                                H. 12 in. (30.5 cm)   \n2                            H. 12 3/8 in. (31.4 cm)   \n\n                                        measurements  \\\n0  [{'elementName': 'Overall', 'elementDescriptio...   \n1  [{'elementName': 'Overall', 'elementDescriptio...   \n2  [{'elementName': 'Overall', 'elementDescriptio...   \n\n                        creditLine classification isTimelineWork  \\\n0    Gift of Mrs. Paul Moore, 1970            NaN          False   \n1  Harris Brisbane Dick Fund, 1938            NaN          False   \n2  Harris Brisbane Dick Fund, 1938            NaN          False   \n\n   GalleryNumber         department constituentID location_id  \n0          774.0  The American Wing        1082.0           0  \n1          774.0  The American Wing      164285.0           1  \n2          774.0  The American Wing      164285.0           1  \n\n[3 rows x 28 columns]",
      "text/html": "<div>\n<style scoped>\n    .dataframe tbody tr th:only-of-type {\n        vertical-align: middle;\n    }\n\n    .dataframe tbody tr th {\n        vertical-align: top;\n    }\n\n    .dataframe thead th {\n        text-align: right;\n    }\n</style>\n<table border=\"1\" class=\"dataframe\">\n  <thead>\n    <tr style=\"text-align: right;\">\n      <th></th>\n      <th>objectID</th>\n      <th>isHighlight</th>\n      <th>accessionNumber</th>\n      <th>accessionYear</th>\n      <th>isPublicDomain</th>\n      <th>primaryImage</th>\n      <th>primaryImageSmall</th>\n      <th>additionalImages</th>\n      <th>objectName</th>\n      <th>title</th>\n      <th>...</th>\n      <th>medium</th>\n      <th>dimensions</th>\n      <th>measurements</th>\n      <th>creditLine</th>\n      <th>classification</th>\n      <th>isTimelineWork</th>\n      <th>GalleryNumber</th>\n      <th>department</th>\n      <th>constituentID</th>\n      <th>location_id</th>\n    </tr>\n  </thead>\n  <tbody>\n    <tr>\n      <th>0</th>\n      <td>34</td>\n      <td>False</td>\n      <td>1970.289.6</td>\n      <td>1970.0</td>\n      <td>True</td>\n      <td>https://images.metmuseum.org/CRDImages/ad/orig...</td>\n      <td>https://images.metmuseum.org/CRDImages/ad/web-...</td>\n      <td>[]</td>\n      <td>Clock</td>\n      <td>Acorn Clock</td>\n      <td>...</td>\n      <td>Mahogany, laminated</td>\n      <td>24 3/8 x 14 5/8 x 5 1/8 in. (61.9 x 37.1 x 13 cm)</td>\n      <td>[{'elementName': 'Overall', 'elementDescriptio...</td>\n      <td>Gift of Mrs. Paul Moore, 1970</td>\n      <td>NaN</td>\n      <td>False</td>\n      <td>774.0</td>\n      <td>The American Wing</td>\n      <td>1082.0</td>\n      <td>0</td>\n    </tr>\n    <tr>\n      <th>1</th>\n      <td>37</td>\n      <td>False</td>\n      <td>38.165.51</td>\n      <td>1938.0</td>\n      <td>True</td>\n      <td>https://images.metmuseum.org/CRDImages/ad/orig...</td>\n      <td>https://images.metmuseum.org/CRDImages/ad/web-...</td>\n      <td>['https://images.metmuseum.org/CRDImages/ad/or...</td>\n      <td>Figure</td>\n      <td>Figure of Admiral George Rodney</td>\n      <td>...</td>\n      <td>Earthenware, basalt</td>\n      <td>H. 12 in. (30.5 cm)</td>\n      <td>[{'elementName': 'Overall', 'elementDescriptio...</td>\n      <td>Harris Brisbane Dick Fund, 1938</td>\n      <td>NaN</td>\n      <td>False</td>\n      <td>774.0</td>\n      <td>The American Wing</td>\n      <td>164285.0</td>\n      <td>1</td>\n    </tr>\n    <tr>\n      <th>2</th>\n      <td>38</td>\n      <td>False</td>\n      <td>38.165.50</td>\n      <td>1938.0</td>\n      <td>True</td>\n      <td>https://images.metmuseum.org/CRDImages/ad/orig...</td>\n      <td>https://images.metmuseum.org/CRDImages/ad/web-...</td>\n      <td>['https://images.metmuseum.org/CRDImages/ad/or...</td>\n      <td>Figure</td>\n      <td>Figure of Admiral Samuel Hood</td>\n      <td>...</td>\n      <td>Earthenware, basalt</td>\n      <td>H. 12 3/8 in. (31.4 cm)</td>\n      <td>[{'elementName': 'Overall', 'elementDescriptio...</td>\n      <td>Harris Brisbane Dick Fund, 1938</td>\n      <td>NaN</td>\n      <td>False</td>\n      <td>774.0</td>\n      <td>The American Wing</td>\n      <td>164285.0</td>\n      <td>1</td>\n    </tr>\n  </tbody>\n</table>\n<p>3 rows × 28 columns</p>\n</div>"
     },
     "execution_count": 106,
     "metadata": {},
     "output_type": "execute_result"
    }
   ],
   "source": [
    "artifacts.head(3)"
   ],
   "metadata": {
    "collapsed": false
   }
  },
  {
   "cell_type": "markdown",
   "source": [
    "## Convert the data types"
   ],
   "metadata": {
    "collapsed": false
   }
  },
  {
   "cell_type": "markdown",
   "source": [
    "### Artworks\n",
    "     'isHighlight':'bool',\n",
    "     'accessionNumber':'string',\n",
    "     'accessionYear':'string', (\"\" or YYYY)\n",
    "     'isPublicDomain':'bool',\n",
    "     'primaryImage':'string',\n",
    "     'primaryImageSmall':'string',\n",
    "     'additionalImages': 'object',\n",
    "     'objectName':'string',\n",
    "     'title':'string',\n",
    "     'culture':'string',\n",
    "     'period':'string',\n",
    "     'dynasty':'string',\n",
    "     'reign':'string',\n",
    "     'portfolio':'string',\n",
    "     'objectBeginDate':'datetime',\n",
    "     'objectEndDate':'datetime',\n",
    "     'medium':'string',\n",
    "     'dimensions':'string',\n",
    "     'measurements':'object',\n",
    "     'creditLine':'string',\n",
    "     'classification':'string',\n",
    "     'isTimelineWork':'bool',\n",
    "     'galleryNumber':'string',\n",
    "     'department':'string',\n",
    "     'constituentID':'int',\n",
    "     'locationID':'int'\n"
   ],
   "metadata": {
    "collapsed": false
   }
  },
  {
   "cell_type": "code",
   "execution_count": 107,
   "outputs": [
    {
     "data": {
      "text/plain": "objectID              object\nisHighlight           object\naccessionNumber       object\naccessionYear         object\nisPublicDomain        object\nprimaryImage          object\nprimaryImageSmall     object\nadditionalImages      object\nobjectName            object\ntitle                 object\nculture               object\nperiod                object\ndynasty               object\nreign                 object\nportfolio             object\nobjectDate            object\nobjectBeginDate      float64\nobjectEndDate        float64\nmedium                object\ndimensions            object\nmeasurements          object\ncreditLine            object\nclassification        object\nisTimelineWork        object\nGalleryNumber         object\ndepartment            object\nconstituentID        float64\nlocation_id            int64\ndtype: object"
     },
     "execution_count": 107,
     "metadata": {},
     "output_type": "execute_result"
    }
   ],
   "source": [
    "artifacts.dtypes"
   ],
   "metadata": {
    "collapsed": false
   }
  },
  {
   "cell_type": "code",
   "execution_count": 108,
   "outputs": [],
   "source": [
    "# rename the GalleryNumber column to galleryNumber\n",
    "# artifacts.rename(columns={'GalleryNumber':'galleryNumber'}, inplace=True)\n",
    "# artifacts.rename(columns={'location_id':'locationID'}, inplace=True)"
   ],
   "metadata": {
    "collapsed": false
   }
  },
  {
   "cell_type": "code",
   "execution_count": 109,
   "outputs": [],
   "source": [
    "import re"
   ],
   "metadata": {
    "collapsed": false
   }
  },
  {
   "cell_type": "code",
   "execution_count": 110,
   "outputs": [],
   "source": [
    "tmp_df = artifacts"
   ],
   "metadata": {
    "collapsed": false
   }
  },
  {
   "cell_type": "code",
   "execution_count": 111,
   "outputs": [
    {
     "data": {
      "text/plain": "(194597, 28)"
     },
     "execution_count": 111,
     "metadata": {},
     "output_type": "execute_result"
    }
   ],
   "source": [
    "tmp_df.shape"
   ],
   "metadata": {
    "collapsed": false
   }
  },
  {
   "cell_type": "code",
   "execution_count": 112,
   "outputs": [
    {
     "data": {
      "text/plain": "  objectID isHighlight accessionNumber accessionYear isPublicDomain  \\\n0       34       False      1970.289.6        1970.0           True   \n1       37       False       38.165.51        1938.0           True   \n2       38       False       38.165.50        1938.0           True   \n\n                                        primaryImage  \\\n0  https://images.metmuseum.org/CRDImages/ad/orig...   \n1  https://images.metmuseum.org/CRDImages/ad/orig...   \n2  https://images.metmuseum.org/CRDImages/ad/orig...   \n\n                                   primaryImageSmall  \\\n0  https://images.metmuseum.org/CRDImages/ad/web-...   \n1  https://images.metmuseum.org/CRDImages/ad/web-...   \n2  https://images.metmuseum.org/CRDImages/ad/web-...   \n\n                                    additionalImages objectName  \\\n0                                                 []      Clock   \n1  ['https://images.metmuseum.org/CRDImages/ad/or...     Figure   \n2  ['https://images.metmuseum.org/CRDImages/ad/or...     Figure   \n\n                             title  ...               medium  \\\n0                      Acorn Clock  ...  Mahogany, laminated   \n1  Figure of Admiral George Rodney  ...  Earthenware, basalt   \n2    Figure of Admiral Samuel Hood  ...  Earthenware, basalt   \n\n                                          dimensions  \\\n0  24 3/8 x 14 5/8 x 5 1/8 in. (61.9 x 37.1 x 13 cm)   \n1                                H. 12 in. (30.5 cm)   \n2                            H. 12 3/8 in. (31.4 cm)   \n\n                                        measurements  \\\n0  [{'elementName': 'Overall', 'elementDescriptio...   \n1  [{'elementName': 'Overall', 'elementDescriptio...   \n2  [{'elementName': 'Overall', 'elementDescriptio...   \n\n                        creditLine classification isTimelineWork  \\\n0    Gift of Mrs. Paul Moore, 1970            NaN          False   \n1  Harris Brisbane Dick Fund, 1938            NaN          False   \n2  Harris Brisbane Dick Fund, 1938            NaN          False   \n\n   galleryNumber         department constituentID locationID  \n0          774.0  The American Wing        1082.0          0  \n1          774.0  The American Wing      164285.0          1  \n2          774.0  The American Wing      164285.0          1  \n\n[3 rows x 28 columns]",
      "text/html": "<div>\n<style scoped>\n    .dataframe tbody tr th:only-of-type {\n        vertical-align: middle;\n    }\n\n    .dataframe tbody tr th {\n        vertical-align: top;\n    }\n\n    .dataframe thead th {\n        text-align: right;\n    }\n</style>\n<table border=\"1\" class=\"dataframe\">\n  <thead>\n    <tr style=\"text-align: right;\">\n      <th></th>\n      <th>objectID</th>\n      <th>isHighlight</th>\n      <th>accessionNumber</th>\n      <th>accessionYear</th>\n      <th>isPublicDomain</th>\n      <th>primaryImage</th>\n      <th>primaryImageSmall</th>\n      <th>additionalImages</th>\n      <th>objectName</th>\n      <th>title</th>\n      <th>...</th>\n      <th>medium</th>\n      <th>dimensions</th>\n      <th>measurements</th>\n      <th>creditLine</th>\n      <th>classification</th>\n      <th>isTimelineWork</th>\n      <th>galleryNumber</th>\n      <th>department</th>\n      <th>constituentID</th>\n      <th>locationID</th>\n    </tr>\n  </thead>\n  <tbody>\n    <tr>\n      <th>0</th>\n      <td>34</td>\n      <td>False</td>\n      <td>1970.289.6</td>\n      <td>1970.0</td>\n      <td>True</td>\n      <td>https://images.metmuseum.org/CRDImages/ad/orig...</td>\n      <td>https://images.metmuseum.org/CRDImages/ad/web-...</td>\n      <td>[]</td>\n      <td>Clock</td>\n      <td>Acorn Clock</td>\n      <td>...</td>\n      <td>Mahogany, laminated</td>\n      <td>24 3/8 x 14 5/8 x 5 1/8 in. (61.9 x 37.1 x 13 cm)</td>\n      <td>[{'elementName': 'Overall', 'elementDescriptio...</td>\n      <td>Gift of Mrs. Paul Moore, 1970</td>\n      <td>NaN</td>\n      <td>False</td>\n      <td>774.0</td>\n      <td>The American Wing</td>\n      <td>1082.0</td>\n      <td>0</td>\n    </tr>\n    <tr>\n      <th>1</th>\n      <td>37</td>\n      <td>False</td>\n      <td>38.165.51</td>\n      <td>1938.0</td>\n      <td>True</td>\n      <td>https://images.metmuseum.org/CRDImages/ad/orig...</td>\n      <td>https://images.metmuseum.org/CRDImages/ad/web-...</td>\n      <td>['https://images.metmuseum.org/CRDImages/ad/or...</td>\n      <td>Figure</td>\n      <td>Figure of Admiral George Rodney</td>\n      <td>...</td>\n      <td>Earthenware, basalt</td>\n      <td>H. 12 in. (30.5 cm)</td>\n      <td>[{'elementName': 'Overall', 'elementDescriptio...</td>\n      <td>Harris Brisbane Dick Fund, 1938</td>\n      <td>NaN</td>\n      <td>False</td>\n      <td>774.0</td>\n      <td>The American Wing</td>\n      <td>164285.0</td>\n      <td>1</td>\n    </tr>\n    <tr>\n      <th>2</th>\n      <td>38</td>\n      <td>False</td>\n      <td>38.165.50</td>\n      <td>1938.0</td>\n      <td>True</td>\n      <td>https://images.metmuseum.org/CRDImages/ad/orig...</td>\n      <td>https://images.metmuseum.org/CRDImages/ad/web-...</td>\n      <td>['https://images.metmuseum.org/CRDImages/ad/or...</td>\n      <td>Figure</td>\n      <td>Figure of Admiral Samuel Hood</td>\n      <td>...</td>\n      <td>Earthenware, basalt</td>\n      <td>H. 12 3/8 in. (31.4 cm)</td>\n      <td>[{'elementName': 'Overall', 'elementDescriptio...</td>\n      <td>Harris Brisbane Dick Fund, 1938</td>\n      <td>NaN</td>\n      <td>False</td>\n      <td>774.0</td>\n      <td>The American Wing</td>\n      <td>164285.0</td>\n      <td>1</td>\n    </tr>\n  </tbody>\n</table>\n<p>3 rows × 28 columns</p>\n</div>"
     },
     "execution_count": 112,
     "metadata": {},
     "output_type": "execute_result"
    }
   ],
   "source": [
    "tmp_df.head(3)"
   ],
   "metadata": {
    "collapsed": false
   }
  },
  {
   "cell_type": "code",
   "execution_count": 113,
   "outputs": [],
   "source": [
    "tmp_df['objectID'] = tmp_df['objectID'].astype('string')"
   ],
   "metadata": {
    "collapsed": false
   }
  },
  {
   "cell_type": "code",
   "execution_count": 114,
   "outputs": [],
   "source": [
    "tmp_df = tmp_df[tmp_df['objectID'].apply(lambda x: re.search(r'[1-9][0-9]*', x) is not None if True else False)]\n"
   ],
   "metadata": {
    "collapsed": false
   }
  },
  {
   "cell_type": "code",
   "execution_count": 115,
   "outputs": [
    {
     "data": {
      "text/plain": "(194591, 28)"
     },
     "execution_count": 115,
     "metadata": {},
     "output_type": "execute_result"
    }
   ],
   "source": [
    "tmp_df.shape"
   ],
   "metadata": {
    "collapsed": false
   }
  },
  {
   "cell_type": "code",
   "execution_count": 116,
   "outputs": [
    {
     "data": {
      "text/plain": "  objectID isHighlight accessionNumber accessionYear isPublicDomain  \\\n0       34       False      1970.289.6        1970.0           True   \n1       37       False       38.165.51        1938.0           True   \n2       38       False       38.165.50        1938.0           True   \n3       39       False        18.11.10        1918.0           True   \n4       40       False      46.140.143        1946.0           True   \n5       41       False      46.140.864        1946.0           True   \n6       42       False         60.58.1        1960.0           True   \n7       43       False         60.58.2        1960.0           True   \n8       44       False     10.125.444a        1910.0           True   \n9       45       False     10.125.444b        1910.0           True   \n\n                                        primaryImage  \\\n0  https://images.metmuseum.org/CRDImages/ad/orig...   \n1  https://images.metmuseum.org/CRDImages/ad/orig...   \n2  https://images.metmuseum.org/CRDImages/ad/orig...   \n3  https://images.metmuseum.org/CRDImages/ad/orig...   \n4  https://images.metmuseum.org/CRDImages/ad/orig...   \n5  https://images.metmuseum.org/CRDImages/ad/orig...   \n6  https://images.metmuseum.org/CRDImages/ad/orig...   \n7  https://images.metmuseum.org/CRDImages/ad/orig...   \n8  https://images.metmuseum.org/CRDImages/ad/orig...   \n9  https://images.metmuseum.org/CRDImages/ad/orig...   \n\n                                   primaryImageSmall  \\\n0  https://images.metmuseum.org/CRDImages/ad/web-...   \n1  https://images.metmuseum.org/CRDImages/ad/web-...   \n2  https://images.metmuseum.org/CRDImages/ad/web-...   \n3  https://images.metmuseum.org/CRDImages/ad/web-...   \n4  https://images.metmuseum.org/CRDImages/ad/web-...   \n5  https://images.metmuseum.org/CRDImages/ad/web-...   \n6  https://images.metmuseum.org/CRDImages/ad/web-...   \n7  https://images.metmuseum.org/CRDImages/ad/web-...   \n8  https://images.metmuseum.org/CRDImages/ad/web-...   \n9  https://images.metmuseum.org/CRDImages/ad/web-...   \n\n                                    additionalImages     objectName  \\\n0                                                 []          Clock   \n1  ['https://images.metmuseum.org/CRDImages/ad/or...         Figure   \n2  ['https://images.metmuseum.org/CRDImages/ad/or...         Figure   \n3                                                 []  Advertisement   \n4                                                 []      Ale glass   \n5                                                 []      Ale glass   \n6  ['https://images.metmuseum.org/CRDImages/ad/or...        Andiron   \n7  ['https://images.metmuseum.org/CRDImages/ad/or...        Andiron   \n8                                                 []        Andiron   \n9                                                 []        Andiron   \n\n                                          title  ...               medium  \\\n0                                   Acorn Clock  ...  Mahogany, laminated   \n1               Figure of Admiral George Rodney  ...  Earthenware, basalt   \n2                 Figure of Admiral Samuel Hood  ...  Earthenware, basalt   \n3  Advertisement for Norwich Stone Ware Factory  ...                Paper   \n4                                     Ale Glass  ...        Pressed glass   \n5                                     Ale Glass  ...        Pressed glass   \n6                                       Andiron  ...          Brass, iron   \n7                                       Andiron  ...          Brass, iron   \n8                                       Andiron  ...                Brass   \n9                                       Andiron  ...                Brass   \n\n                                          dimensions  \\\n0  24 3/8 x 14 5/8 x 5 1/8 in. (61.9 x 37.1 x 13 cm)   \n1                                H. 12 in. (30.5 cm)   \n2                            H. 12 3/8 in. (31.4 cm)   \n3                        11 x 9 in. (27.9 x 22.9 cm)   \n4      H. 6 9/16 in. (16.7 cm); Diam. 3 in. (7.6 cm)   \n5  H. 6 1/4 in. (15.9 cm); Diam. 2 15/16 in. (7.5...   \n6   30 7/8 x 25 x 13 7/8 in. (78.4 x 63.5 x 35.2 cm)   \n7   30 7/8 x 25 x 13 7/8 in. (78.4 x 63.5 x 35.2 cm)   \n8                                H. 27 in. (68.6 cm)   \n9                                H. 27 in. (68.6 cm)   \n\n                                        measurements  \\\n0  [{'elementName': 'Overall', 'elementDescriptio...   \n1  [{'elementName': 'Overall', 'elementDescriptio...   \n2  [{'elementName': 'Overall', 'elementDescriptio...   \n3  [{'elementName': 'Overall', 'elementDescriptio...   \n4  [{'elementName': 'Other', 'elementDescription'...   \n5  [{'elementName': 'Other', 'elementDescription'...   \n6  [{'elementName': 'Overall', 'elementDescriptio...   \n7  [{'elementName': 'Overall', 'elementDescriptio...   \n8  [{'elementName': 'Overall', 'elementDescriptio...   \n9  [{'elementName': 'Overall', 'elementDescriptio...   \n\n                                creditLine classification isTimelineWork  \\\n0            Gift of Mrs. Paul Moore, 1970            NaN          False   \n1          Harris Brisbane Dick Fund, 1938            NaN          False   \n2          Harris Brisbane Dick Fund, 1938            NaN          False   \n3                        Rogers Fund, 1918            NaN          False   \n4  Gift of Mrs. Emily Winthrop Miles, 1946            NaN          False   \n5  Gift of Mrs. Emily Winthrop Miles, 1946            NaN          False   \n6                Sansbury-Mills Fund, 1960            NaN          False   \n7                Sansbury-Mills Fund, 1960            NaN          False   \n8          Gift of Mrs. Russell Sage, 1909            NaN          False   \n9          Gift of Mrs. Russell Sage, 1909            NaN          False   \n\n   galleryNumber         department constituentID locationID  \n0          774.0  The American Wing        1082.0          0  \n1          774.0  The American Wing      164285.0          1  \n2          774.0  The American Wing      164285.0          1  \n3            NaN  The American Wing           NaN          3  \n4          774.0  The American Wing        1087.0          4  \n5          774.0  The American Wing      162584.0          5  \n6          724.0  The American Wing           NaN          6  \n7          724.0  The American Wing           NaN          6  \n8          774.0  The American Wing           NaN          8  \n9          774.0  The American Wing           NaN          8  \n\n[10 rows x 28 columns]",
      "text/html": "<div>\n<style scoped>\n    .dataframe tbody tr th:only-of-type {\n        vertical-align: middle;\n    }\n\n    .dataframe tbody tr th {\n        vertical-align: top;\n    }\n\n    .dataframe thead th {\n        text-align: right;\n    }\n</style>\n<table border=\"1\" class=\"dataframe\">\n  <thead>\n    <tr style=\"text-align: right;\">\n      <th></th>\n      <th>objectID</th>\n      <th>isHighlight</th>\n      <th>accessionNumber</th>\n      <th>accessionYear</th>\n      <th>isPublicDomain</th>\n      <th>primaryImage</th>\n      <th>primaryImageSmall</th>\n      <th>additionalImages</th>\n      <th>objectName</th>\n      <th>title</th>\n      <th>...</th>\n      <th>medium</th>\n      <th>dimensions</th>\n      <th>measurements</th>\n      <th>creditLine</th>\n      <th>classification</th>\n      <th>isTimelineWork</th>\n      <th>galleryNumber</th>\n      <th>department</th>\n      <th>constituentID</th>\n      <th>locationID</th>\n    </tr>\n  </thead>\n  <tbody>\n    <tr>\n      <th>0</th>\n      <td>34</td>\n      <td>False</td>\n      <td>1970.289.6</td>\n      <td>1970.0</td>\n      <td>True</td>\n      <td>https://images.metmuseum.org/CRDImages/ad/orig...</td>\n      <td>https://images.metmuseum.org/CRDImages/ad/web-...</td>\n      <td>[]</td>\n      <td>Clock</td>\n      <td>Acorn Clock</td>\n      <td>...</td>\n      <td>Mahogany, laminated</td>\n      <td>24 3/8 x 14 5/8 x 5 1/8 in. (61.9 x 37.1 x 13 cm)</td>\n      <td>[{'elementName': 'Overall', 'elementDescriptio...</td>\n      <td>Gift of Mrs. Paul Moore, 1970</td>\n      <td>NaN</td>\n      <td>False</td>\n      <td>774.0</td>\n      <td>The American Wing</td>\n      <td>1082.0</td>\n      <td>0</td>\n    </tr>\n    <tr>\n      <th>1</th>\n      <td>37</td>\n      <td>False</td>\n      <td>38.165.51</td>\n      <td>1938.0</td>\n      <td>True</td>\n      <td>https://images.metmuseum.org/CRDImages/ad/orig...</td>\n      <td>https://images.metmuseum.org/CRDImages/ad/web-...</td>\n      <td>['https://images.metmuseum.org/CRDImages/ad/or...</td>\n      <td>Figure</td>\n      <td>Figure of Admiral George Rodney</td>\n      <td>...</td>\n      <td>Earthenware, basalt</td>\n      <td>H. 12 in. (30.5 cm)</td>\n      <td>[{'elementName': 'Overall', 'elementDescriptio...</td>\n      <td>Harris Brisbane Dick Fund, 1938</td>\n      <td>NaN</td>\n      <td>False</td>\n      <td>774.0</td>\n      <td>The American Wing</td>\n      <td>164285.0</td>\n      <td>1</td>\n    </tr>\n    <tr>\n      <th>2</th>\n      <td>38</td>\n      <td>False</td>\n      <td>38.165.50</td>\n      <td>1938.0</td>\n      <td>True</td>\n      <td>https://images.metmuseum.org/CRDImages/ad/orig...</td>\n      <td>https://images.metmuseum.org/CRDImages/ad/web-...</td>\n      <td>['https://images.metmuseum.org/CRDImages/ad/or...</td>\n      <td>Figure</td>\n      <td>Figure of Admiral Samuel Hood</td>\n      <td>...</td>\n      <td>Earthenware, basalt</td>\n      <td>H. 12 3/8 in. (31.4 cm)</td>\n      <td>[{'elementName': 'Overall', 'elementDescriptio...</td>\n      <td>Harris Brisbane Dick Fund, 1938</td>\n      <td>NaN</td>\n      <td>False</td>\n      <td>774.0</td>\n      <td>The American Wing</td>\n      <td>164285.0</td>\n      <td>1</td>\n    </tr>\n    <tr>\n      <th>3</th>\n      <td>39</td>\n      <td>False</td>\n      <td>18.11.10</td>\n      <td>1918.0</td>\n      <td>True</td>\n      <td>https://images.metmuseum.org/CRDImages/ad/orig...</td>\n      <td>https://images.metmuseum.org/CRDImages/ad/web-...</td>\n      <td>[]</td>\n      <td>Advertisement</td>\n      <td>Advertisement for Norwich Stone Ware Factory</td>\n      <td>...</td>\n      <td>Paper</td>\n      <td>11 x 9 in. (27.9 x 22.9 cm)</td>\n      <td>[{'elementName': 'Overall', 'elementDescriptio...</td>\n      <td>Rogers Fund, 1918</td>\n      <td>NaN</td>\n      <td>False</td>\n      <td>NaN</td>\n      <td>The American Wing</td>\n      <td>NaN</td>\n      <td>3</td>\n    </tr>\n    <tr>\n      <th>4</th>\n      <td>40</td>\n      <td>False</td>\n      <td>46.140.143</td>\n      <td>1946.0</td>\n      <td>True</td>\n      <td>https://images.metmuseum.org/CRDImages/ad/orig...</td>\n      <td>https://images.metmuseum.org/CRDImages/ad/web-...</td>\n      <td>[]</td>\n      <td>Ale glass</td>\n      <td>Ale Glass</td>\n      <td>...</td>\n      <td>Pressed glass</td>\n      <td>H. 6 9/16 in. (16.7 cm); Diam. 3 in. (7.6 cm)</td>\n      <td>[{'elementName': 'Other', 'elementDescription'...</td>\n      <td>Gift of Mrs. Emily Winthrop Miles, 1946</td>\n      <td>NaN</td>\n      <td>False</td>\n      <td>774.0</td>\n      <td>The American Wing</td>\n      <td>1087.0</td>\n      <td>4</td>\n    </tr>\n    <tr>\n      <th>5</th>\n      <td>41</td>\n      <td>False</td>\n      <td>46.140.864</td>\n      <td>1946.0</td>\n      <td>True</td>\n      <td>https://images.metmuseum.org/CRDImages/ad/orig...</td>\n      <td>https://images.metmuseum.org/CRDImages/ad/web-...</td>\n      <td>[]</td>\n      <td>Ale glass</td>\n      <td>Ale Glass</td>\n      <td>...</td>\n      <td>Pressed glass</td>\n      <td>H. 6 1/4 in. (15.9 cm); Diam. 2 15/16 in. (7.5...</td>\n      <td>[{'elementName': 'Other', 'elementDescription'...</td>\n      <td>Gift of Mrs. Emily Winthrop Miles, 1946</td>\n      <td>NaN</td>\n      <td>False</td>\n      <td>774.0</td>\n      <td>The American Wing</td>\n      <td>162584.0</td>\n      <td>5</td>\n    </tr>\n    <tr>\n      <th>6</th>\n      <td>42</td>\n      <td>False</td>\n      <td>60.58.1</td>\n      <td>1960.0</td>\n      <td>True</td>\n      <td>https://images.metmuseum.org/CRDImages/ad/orig...</td>\n      <td>https://images.metmuseum.org/CRDImages/ad/web-...</td>\n      <td>['https://images.metmuseum.org/CRDImages/ad/or...</td>\n      <td>Andiron</td>\n      <td>Andiron</td>\n      <td>...</td>\n      <td>Brass, iron</td>\n      <td>30 7/8 x 25 x 13 7/8 in. (78.4 x 63.5 x 35.2 cm)</td>\n      <td>[{'elementName': 'Overall', 'elementDescriptio...</td>\n      <td>Sansbury-Mills Fund, 1960</td>\n      <td>NaN</td>\n      <td>False</td>\n      <td>724.0</td>\n      <td>The American Wing</td>\n      <td>NaN</td>\n      <td>6</td>\n    </tr>\n    <tr>\n      <th>7</th>\n      <td>43</td>\n      <td>False</td>\n      <td>60.58.2</td>\n      <td>1960.0</td>\n      <td>True</td>\n      <td>https://images.metmuseum.org/CRDImages/ad/orig...</td>\n      <td>https://images.metmuseum.org/CRDImages/ad/web-...</td>\n      <td>['https://images.metmuseum.org/CRDImages/ad/or...</td>\n      <td>Andiron</td>\n      <td>Andiron</td>\n      <td>...</td>\n      <td>Brass, iron</td>\n      <td>30 7/8 x 25 x 13 7/8 in. (78.4 x 63.5 x 35.2 cm)</td>\n      <td>[{'elementName': 'Overall', 'elementDescriptio...</td>\n      <td>Sansbury-Mills Fund, 1960</td>\n      <td>NaN</td>\n      <td>False</td>\n      <td>724.0</td>\n      <td>The American Wing</td>\n      <td>NaN</td>\n      <td>6</td>\n    </tr>\n    <tr>\n      <th>8</th>\n      <td>44</td>\n      <td>False</td>\n      <td>10.125.444a</td>\n      <td>1910.0</td>\n      <td>True</td>\n      <td>https://images.metmuseum.org/CRDImages/ad/orig...</td>\n      <td>https://images.metmuseum.org/CRDImages/ad/web-...</td>\n      <td>[]</td>\n      <td>Andiron</td>\n      <td>Andiron</td>\n      <td>...</td>\n      <td>Brass</td>\n      <td>H. 27 in. (68.6 cm)</td>\n      <td>[{'elementName': 'Overall', 'elementDescriptio...</td>\n      <td>Gift of Mrs. Russell Sage, 1909</td>\n      <td>NaN</td>\n      <td>False</td>\n      <td>774.0</td>\n      <td>The American Wing</td>\n      <td>NaN</td>\n      <td>8</td>\n    </tr>\n    <tr>\n      <th>9</th>\n      <td>45</td>\n      <td>False</td>\n      <td>10.125.444b</td>\n      <td>1910.0</td>\n      <td>True</td>\n      <td>https://images.metmuseum.org/CRDImages/ad/orig...</td>\n      <td>https://images.metmuseum.org/CRDImages/ad/web-...</td>\n      <td>[]</td>\n      <td>Andiron</td>\n      <td>Andiron</td>\n      <td>...</td>\n      <td>Brass</td>\n      <td>H. 27 in. (68.6 cm)</td>\n      <td>[{'elementName': 'Overall', 'elementDescriptio...</td>\n      <td>Gift of Mrs. Russell Sage, 1909</td>\n      <td>NaN</td>\n      <td>False</td>\n      <td>774.0</td>\n      <td>The American Wing</td>\n      <td>NaN</td>\n      <td>8</td>\n    </tr>\n  </tbody>\n</table>\n<p>10 rows × 28 columns</p>\n</div>"
     },
     "execution_count": 116,
     "metadata": {},
     "output_type": "execute_result"
    }
   ],
   "source": [
    "tmp_df.head(10)"
   ],
   "metadata": {
    "collapsed": false
   }
  },
  {
   "cell_type": "code",
   "execution_count": 117,
   "outputs": [
    {
     "name": "stderr",
     "output_type": "stream",
     "text": [
      "/var/folders/pl/31lr7g6160j6gclk5kfqf6h80000gn/T/ipykernel_39658/1637085298.py:1: SettingWithCopyWarning: \n",
      "A value is trying to be set on a copy of a slice from a DataFrame.\n",
      "Try using .loc[row_indexer,col_indexer] = value instead\n",
      "\n",
      "See the caveats in the documentation: https://pandas.pydata.org/pandas-docs/stable/user_guide/indexing.html#returning-a-view-versus-a-copy\n",
      "  tmp_df['objectID'] = tmp_df['objectID'].astype('int')\n"
     ]
    }
   ],
   "source": [
    "tmp_df['objectID'] = tmp_df['objectID'].astype('int')"
   ],
   "metadata": {
    "collapsed": false
   }
  },
  {
   "cell_type": "code",
   "execution_count": 118,
   "outputs": [],
   "source": [
    "tmp_df = tmp_df.astype({\n",
    "             'isHighlight':'bool',\n",
    "             'accessionNumber':'string',\n",
    "             'accessionYear':'string',\n",
    "             'isPublicDomain':'bool',\n",
    "             'primaryImage':'string',\n",
    "             'primaryImageSmall':'string',\n",
    "             'additionalImages': 'object',\n",
    "             'objectName':'string',\n",
    "             'title':'string',\n",
    "             'culture':'string',\n",
    "             'period':'string',\n",
    "             'dynasty':'string',\n",
    "             'reign':'string',\n",
    "             'portfolio':'string',\n",
    "             'objectBeginDate':'float',\n",
    "             'objectEndDate':'float',\n",
    "             'medium':'string',\n",
    "             'dimensions':'string',\n",
    "             'measurements':'object',\n",
    "             'creditLine':'string',\n",
    "             'classification':'string',\n",
    "             'isTimelineWork':'bool',\n",
    "             'galleryNumber':'string',\n",
    "             'department':'string',\n",
    "             'constituentID':'float',\n",
    "             'locationID':'int'\n",
    "                         })"
   ],
   "metadata": {
    "collapsed": false
   }
  },
  {
   "cell_type": "code",
   "execution_count": 119,
   "outputs": [],
   "source": [
    "# change the data type of float into int\n",
    "tmp_df['objectBeginDate'] = tmp_df['objectBeginDate'].astype('Int64')\n",
    "tmp_df['objectEndDate'] = tmp_df['objectEndDate'].astype('Int64')\n",
    "tmp_df['constituentID'] = tmp_df['constituentID'].astype('Int64')"
   ],
   "metadata": {
    "collapsed": false
   }
  },
  {
   "cell_type": "code",
   "execution_count": 120,
   "outputs": [],
   "source": [
    "tmp2_df = tmp_df"
   ],
   "metadata": {
    "collapsed": false
   }
  },
  {
   "cell_type": "code",
   "execution_count": 133,
   "outputs": [],
   "source": [
    "def clean_year_for_df(df, colName):\n",
    "    df[colName] = df[colName].fillna(\"\")\n",
    "    df[colName] = df[colName].apply(clean_year)\n",
    "    return df"
   ],
   "metadata": {
    "collapsed": false
   }
  },
  {
   "cell_type": "code",
   "execution_count": 121,
   "outputs": [],
   "source": [
    "# change the clean the data for accessionYear, objectBeginDate, objectEndDate\n",
    "def clean_year(x):\n",
    "    if x == \"\": return x\n",
    "    if re.search(r'^([1-9][0-9]{1,3}?\\.0)', x) is not None:\n",
    "        try:\n",
    "            floatVal = float(x)\n",
    "            intVal = int(floatVal)\n",
    "            return intVal\n",
    "        except:\n",
    "            print(x)\n",
    "            return \"\"\n",
    "    elif re.search(r'([1-9][0-9]{1,3}?-[0-9]{1,2}?-[0-9]{1,2})', x) is not None:\n",
    "        res = re.search(r'([1-9][0-9]{1,3}?-[0-9]{1,2}?-[0-9]{1,2})', x)\n",
    "        try:\n",
    "            tmp = int(res.group(1).split('-')[0])\n",
    "            return tmp\n",
    "        except:\n",
    "            print(res.group(1).split('-')[0])\n",
    "            return \"\"\n",
    "\n"
   ],
   "metadata": {
    "collapsed": false
   }
  },
  {
   "cell_type": "code",
   "execution_count": 122,
   "outputs": [],
   "source": [
    "tmp2_df['accessionYear'] = tmp2_df['accessionYear'].fillna(\"\")\n"
   ],
   "metadata": {
    "collapsed": false
   }
  },
  {
   "cell_type": "code",
   "execution_count": 123,
   "outputs": [],
   "source": [
    "tmp2_df['accessionYear'] = tmp2_df['accessionYear'].apply(clean_year)"
   ],
   "metadata": {
    "collapsed": false
   }
  },
  {
   "cell_type": "code",
   "execution_count": 124,
   "outputs": [
    {
     "data": {
      "text/plain": "0    1970\n1    1938\n2    1938\n3    1918\n4    1946\n5    1946\n6    1960\n7    1960\n8    1910\n9    1910\nName: accessionYear, dtype: object"
     },
     "execution_count": 124,
     "metadata": {},
     "output_type": "execute_result"
    }
   ],
   "source": [
    "tmp2_df['accessionYear'].head(10)"
   ],
   "metadata": {
    "collapsed": false
   }
  },
  {
   "cell_type": "code",
   "execution_count": 126,
   "outputs": [
    {
     "data": {
      "text/plain": "objectID              int64\nisHighlight            bool\naccessionNumber      string\naccessionYear        object\nisPublicDomain         bool\nprimaryImage         string\nprimaryImageSmall    string\nadditionalImages     object\nobjectName           string\ntitle                string\nculture              string\nperiod               string\ndynasty              string\nreign                string\nportfolio            string\nobjectDate           object\nobjectBeginDate       Int64\nobjectEndDate         Int64\nmedium               string\ndimensions           string\nmeasurements         object\ncreditLine           string\nclassification       string\nisTimelineWork         bool\ngalleryNumber        string\ndepartment           string\nconstituentID         Int64\nlocationID            int64\ndtype: object"
     },
     "execution_count": 126,
     "metadata": {},
     "output_type": "execute_result"
    }
   ],
   "source": [
    "tmp2_df.dtypes"
   ],
   "metadata": {
    "collapsed": false
   }
  },
  {
   "cell_type": "code",
   "execution_count": 154,
   "outputs": [],
   "source": [
    "tmp2_df['objectBeginDate'] = tmp2_df['objectBeginDate'].astype('string')\n",
    "tmp2_df['objectEndDate'] = tmp2_df['objectEndDate'].astype('string')\n",
    "tmp2_df['objectBeginDate'].fillna(\"\", inplace=True)\n",
    "tmp2_df['objectEndDate'].fillna(\"\", inplace=True)"
   ],
   "metadata": {
    "collapsed": false
   }
  },
  {
   "cell_type": "code",
   "execution_count": 158,
   "outputs": [],
   "source": [
    "tmp2_df['objectDate'] = tmp2_df['objectDate'].astype('string')\n",
    "tmp2_df['objectDate'].fillna(\"\", inplace=True)"
   ],
   "metadata": {
    "collapsed": false
   }
  },
  {
   "cell_type": "code",
   "execution_count": 159,
   "outputs": [
    {
     "data": {
      "text/plain": "objectID              int64\nisHighlight            bool\naccessionNumber      string\naccessionYear        object\nisPublicDomain         bool\nprimaryImage         string\nprimaryImageSmall    string\nadditionalImages     object\nobjectName           string\ntitle                string\nculture              string\nperiod               string\ndynasty              string\nreign                string\nportfolio            string\nobjectDate           string\nobjectBeginDate      string\nobjectEndDate        string\nmedium               string\ndimensions           string\nmeasurements         object\ncreditLine           string\nclassification       string\nisTimelineWork         bool\ngalleryNumber        string\ndepartment           string\nconstituentID         Int64\nlocationID            int64\ndtype: object"
     },
     "execution_count": 159,
     "metadata": {},
     "output_type": "execute_result"
    }
   ],
   "source": [
    "tmp2_df.dtypes"
   ],
   "metadata": {
    "collapsed": false
   }
  },
  {
   "cell_type": "code",
   "execution_count": 160,
   "outputs": [
    {
     "data": {
      "text/plain": "(194591, 28)"
     },
     "execution_count": 160,
     "metadata": {},
     "output_type": "execute_result"
    }
   ],
   "source": [
    "tmp2_df.shape"
   ],
   "metadata": {
    "collapsed": false
   }
  },
  {
   "cell_type": "code",
   "execution_count": 155,
   "outputs": [
    {
     "data": {
      "text/plain": "(194591, 28)"
     },
     "execution_count": 155,
     "metadata": {},
     "output_type": "execute_result"
    }
   ],
   "source": [
    "tmp2_df.shape"
   ],
   "metadata": {
    "collapsed": false
   }
  },
  {
   "cell_type": "code",
   "execution_count": 161,
   "outputs": [],
   "source": [
    "tmp2_df.to_csv('../../dataset/artifacts_clean2.csv', index=False)"
   ],
   "metadata": {
    "collapsed": false
   }
  },
  {
   "cell_type": "markdown",
   "source": [
    "### Artists\n",
    "     'artistRole'            'string'\n",
    "    'artistPrefix'           'string'\n",
    "    'artistDisplayName'      'string'\n",
    "    'artistDisplayBio'       'string'\n",
    "    'artistSuffix'           'string'\n",
    "    'artistAlphaSort'        'string'\n",
    "    'artistNationality'      'string'\n",
    "    'artistBeginDate'        'int'\n",
    "    'artistEndDate'          'int'\n",
    "    'artistGender'           'string' (\"female\", null)\n",
    "    'artistWikidata_URL'     'string'\n",
    "    'artistULAN_URL'         'string'\n",
    "    'constituentID':         'int'"
   ],
   "metadata": {
    "collapsed": false
   }
  },
  {
   "cell_type": "code",
   "execution_count": 166,
   "outputs": [],
   "source": [
    "artists = pd.read_csv('../../dataset/artists.csv')"
   ],
   "metadata": {
    "collapsed": false
   }
  },
  {
   "cell_type": "code",
   "execution_count": 167,
   "outputs": [
    {
     "data": {
      "text/plain": "Unnamed: 0              int64\nartistRole             object\nartistPrefix           object\nartistDisplayName      object\nartistDisplayBio       object\nartistSuffix           object\nartistAlphaSort        object\nartistNationality      object\nartistBeginDate        object\nartistEndDate          object\nartistGender           object\nartistWikidata_URL     object\nartistULAN_URL         object\nconstituentID         float64\ndtype: object"
     },
     "execution_count": 167,
     "metadata": {},
     "output_type": "execute_result"
    }
   ],
   "source": [
    "artists.dtypes"
   ],
   "metadata": {
    "collapsed": false
   }
  },
  {
   "cell_type": "code",
   "execution_count": 168,
   "outputs": [],
   "source": [
    "artists.dropna(subset=['constituentID'], inplace=True)"
   ],
   "metadata": {
    "collapsed": false
   }
  },
  {
   "cell_type": "code",
   "execution_count": 169,
   "outputs": [],
   "source": [
    "artists.drop(columns=['Unnamed: 0'], inplace=True)"
   ],
   "metadata": {
    "collapsed": false
   }
  },
  {
   "cell_type": "code",
   "execution_count": 170,
   "outputs": [],
   "source": [
    "artists = artists.astype({\n",
    "    'artistRole':'string',\n",
    "    'artistPrefix': 'string',\n",
    "    'artistDisplayName': 'string',\n",
    "    'artistDisplayBio': 'string',\n",
    "    'artistSuffix':      'string',\n",
    "    'artistAlphaSort': 'string',\n",
    "    'artistNationality': 'string',\n",
    "    'artistBeginDate':'string',\n",
    "    'artistEndDate': 'string',\n",
    "    'artistGender' : 'string' ,\n",
    "    'artistWikidata_URL':'string',\n",
    "    'artistULAN_URL':'string',\n",
    "    'constituentID': 'int'\n",
    "})"
   ],
   "metadata": {
    "collapsed": false
   }
  },
  {
   "cell_type": "code",
   "execution_count": 171,
   "outputs": [
    {
     "data": {
      "text/plain": "artistRole            string\nartistPrefix          string\nartistDisplayName     string\nartistDisplayBio      string\nartistSuffix          string\nartistAlphaSort       string\nartistNationality     string\nartistBeginDate       string\nartistEndDate         string\nartistGender          string\nartistWikidata_URL    string\nartistULAN_URL        string\nconstituentID          int64\ndtype: object"
     },
     "execution_count": 171,
     "metadata": {},
     "output_type": "execute_result"
    }
   ],
   "source": [
    "artists.dtypes"
   ],
   "metadata": {
    "collapsed": false
   }
  },
  {
   "cell_type": "code",
   "execution_count": 172,
   "outputs": [],
   "source": [
    "tmp_df = artists"
   ],
   "metadata": {
    "collapsed": false
   }
  },
  {
   "cell_type": "code",
   "execution_count": 173,
   "outputs": [
    {
     "name": "stderr",
     "output_type": "stream",
     "text": [
      "/var/folders/pl/31lr7g6160j6gclk5kfqf6h80000gn/T/ipykernel_39658/4237416320.py:1: DeprecationWarning: In a future version, `df.iloc[:, i] = newvals` will attempt to set the values inplace instead of always setting a new array. To retain the old behavior, use either `df[df.columns[i]] = newvals` or, if columns are non-unique, `df.isetitem(i, newvals)`\n",
      "  tmp_df.fillna({'artistRole': '',\n"
     ]
    }
   ],
   "source": [
    "tmp_df.fillna({'artistRole': '',\n",
    "               'artistPrefix': '',\n",
    "               'artistDisplayName': '',\n",
    "               'artistDisplayBio': '',\n",
    "               'artistSuffix': '',\n",
    "               'artistAlphaSort': '',\n",
    "               'artistNationality': '',\n",
    "               'artistBeginDate': '',\n",
    "               'artistEndDate': '',\n",
    "               'artistGender': '',\n",
    "               'artistWikidata_URL': '',\n",
    "               'artistULAN_URL': ''}, inplace=True)"
   ],
   "metadata": {
    "collapsed": false
   }
  },
  {
   "cell_type": "code",
   "execution_count": 174,
   "outputs": [],
   "source": [
    "tmp_df.to_csv('../../dataset/artists_clean2.csv', index=False)"
   ],
   "metadata": {
    "collapsed": false
   }
  },
  {
   "cell_type": "code",
   "execution_count": 175,
   "outputs": [
    {
     "data": {
      "text/plain": "<StringArray>\n[               'Maker',               'Artist',             'Retailer',\n             'Designer',         'Manufacturer',   'Former Attribution',\n         'Lithographer',                     '',            'Decorator',\n            'Architect',               'Author',         'Design House',\n          'Manufactory',             'Engraver',             'Enameler',\n          'Silversmith',              'Factory',              'Modeler',\n              'Founder',            'Goldsmith',     'Factory director',\n        'Factory owner',            'Draftsman', 'Artist and publisher',\n            'Publisher',               'Sitter',           'Bladesmith',\n              'Inlayer',              'Printer',         'Calligrapher',\n       'Steel-chiseler',             'Gunsmith',               'Binder',\n               'Etcher',           'Swordsmith',          'Sword maker',\n              'Armorer',           'Damascener',         'Sword cutler',\n          'Barrelsmith',           'Hilt Maker',          'Mount maker',\n          'Stock maker',           'Lock maker',       'Fittings maker',\n         'Entrepreneur',             'Purveyor',          'Illustrator',\n      'Subject of book',  'Artist and engraver', 'Artist and architect',\n           'Translator',                 'Poet',          'Illuminator',\n            'Dedicatee',               'Editor',   'Photography Studio',\n         'Photographer',             'Patentee', 'Restorer/Conservator',\n               'Patron',              'Subject',           'Printmaker',\n              'Culture',             'Inventor',         'Block cutter',\n     'Department Store',           'Woodcutter']\nLength: 68, dtype: string"
     },
     "execution_count": 175,
     "metadata": {},
     "output_type": "execute_result"
    }
   ],
   "source": [
    "tmp_df['artistRole'].unique()"
   ],
   "metadata": {
    "collapsed": false
   }
  },
  {
   "cell_type": "markdown",
   "source": [
    "## Location"
   ],
   "metadata": {
    "collapsed": false
   }
  },
  {
   "cell_type": "code",
   "execution_count": null,
   "outputs": [],
   "source": [
    "locations = pd.read_csv('../../dataset/location_clean.csv')"
   ],
   "metadata": {
    "collapsed": false
   }
  },
  {
   "cell_type": "code",
   "execution_count": 176,
   "outputs": [
    {
     "data": {
      "text/plain": "locationID        int64\ngeographyType    object\ncity             object\nstate            object\ncounty           object\ncountry          object\nregion           object\nsubregion        object\nlocale           object\nlocus            object\nexcavation       object\nriver            object\ndtype: object"
     },
     "execution_count": 176,
     "metadata": {},
     "output_type": "execute_result"
    }
   ],
   "source": [
    "locations.dtypes"
   ],
   "metadata": {
    "collapsed": false
   }
  },
  {
   "cell_type": "code",
   "execution_count": 177,
   "outputs": [],
   "source": [
    "locations = locations.astype({\n",
    "    'geographyType':'string',\n",
    "    'city':'string',\n",
    "    'state':'string',\n",
    "    'county':'string',\n",
    "    'country':'string',\n",
    "    'region':'string',\n",
    "    'subregion':'string',\n",
    "    'locale':'string',\n",
    "    'locus':'string',\n",
    "    'excavation':'string',\n",
    "    'river':'string',\n",
    "})"
   ],
   "metadata": {
    "collapsed": false
   }
  },
  {
   "cell_type": "code",
   "execution_count": 178,
   "outputs": [
    {
     "name": "stderr",
     "output_type": "stream",
     "text": [
      "/var/folders/pl/31lr7g6160j6gclk5kfqf6h80000gn/T/ipykernel_39658/1349237284.py:1: DeprecationWarning: In a future version, `df.iloc[:, i] = newvals` will attempt to set the values inplace instead of always setting a new array. To retain the old behavior, use either `df[df.columns[i]] = newvals` or, if columns are non-unique, `df.isetitem(i, newvals)`\n",
      "  locations.fillna({'geographyType': '',\n"
     ]
    }
   ],
   "source": [
    "locations.fillna({'geographyType': '',\n",
    "               'city': '',\n",
    "               'state': '',\n",
    "               'county': '',\n",
    "               'country': '',\n",
    "               'region': '',\n",
    "               'subregion': '',\n",
    "               'locale': '',\n",
    "               'locus': '',\n",
    "               'excavation': '',\n",
    "               'river': ''}, inplace=True)"
   ],
   "metadata": {
    "collapsed": false
   }
  },
  {
   "cell_type": "code",
   "execution_count": 179,
   "outputs": [],
   "source": [
    "locations.to_csv('../../dataset/location_clean2.csv', index=False)"
   ],
   "metadata": {
    "collapsed": false
   }
  },
  {
   "cell_type": "markdown",
   "source": [
    "## Metadata\n"
   ],
   "metadata": {
    "collapsed": false
   }
  },
  {
   "cell_type": "code",
   "execution_count": 180,
   "outputs": [
    {
     "name": "stderr",
     "output_type": "stream",
     "text": [
      "/var/folders/pl/31lr7g6160j6gclk5kfqf6h80000gn/T/ipykernel_39658/211069466.py:1: DtypeWarning: Columns (0) have mixed types. Specify dtype option on import or set low_memory=False.\n",
      "  meta = pd.read_csv('../../dataset/metadata.csv')\n"
     ]
    }
   ],
   "source": [
    "meta = pd.read_csv('../../dataset/metadata.csv')"
   ],
   "metadata": {
    "collapsed": false
   }
  },
  {
   "cell_type": "code",
   "execution_count": 181,
   "outputs": [
    {
     "data": {
      "text/plain": "objectID                  object\nrightsAndReproduction    float64\nlinkResource             float64\nmetadataDate              object\nrepository                object\nobjectURL                 object\ntags                      object\nobjectWikidata_URL        object\ndtype: object"
     },
     "execution_count": 181,
     "metadata": {},
     "output_type": "execute_result"
    }
   ],
   "source": [
    "meta.dtypes"
   ],
   "metadata": {
    "collapsed": false
   }
  },
  {
   "cell_type": "code",
   "execution_count": 182,
   "outputs": [
    {
     "data": {
      "text/plain": "  objectID  rightsAndReproduction  linkResource              metadataDate  \\\n0       34                    NaN           NaN   2023-02-07T04:46:51.34Z   \n1       37                    NaN           NaN   2023-02-07T04:46:51.34Z   \n2       38                    NaN           NaN   2023-02-07T04:46:51.34Z   \n3       39                    NaN           NaN  2021-04-06T04:41:04.967Z   \n\n                                 repository  \\\n0  Metropolitan Museum of Art, New York, NY   \n1  Metropolitan Museum of Art, New York, NY   \n2  Metropolitan Museum of Art, New York, NY   \n3  Metropolitan Museum of Art, New York, NY   \n\n                                           objectURL  \\\n0  https://www.metmuseum.org/art/collection/searc...   \n1  https://www.metmuseum.org/art/collection/searc...   \n2  https://www.metmuseum.org/art/collection/searc...   \n3  https://www.metmuseum.org/art/collection/searc...   \n\n                                                tags  \\\n0  [{'term': 'Boats', 'AAT_URL': 'http://vocab.ge...   \n1  [{'term': 'Cannons', 'AAT_URL': 'http://vocab....   \n2  [{'term': 'Cannons', 'AAT_URL': 'http://vocab....   \n3  [{'term': 'Advertisements', 'AAT_URL': 'http:/...   \n\n                         objectWikidata_URL  \n0  https://www.wikidata.org/wiki/Q116373732  \n1  https://www.wikidata.org/wiki/Q116373729  \n2  https://www.wikidata.org/wiki/Q116373728  \n3                                       NaN  ",
      "text/html": "<div>\n<style scoped>\n    .dataframe tbody tr th:only-of-type {\n        vertical-align: middle;\n    }\n\n    .dataframe tbody tr th {\n        vertical-align: top;\n    }\n\n    .dataframe thead th {\n        text-align: right;\n    }\n</style>\n<table border=\"1\" class=\"dataframe\">\n  <thead>\n    <tr style=\"text-align: right;\">\n      <th></th>\n      <th>objectID</th>\n      <th>rightsAndReproduction</th>\n      <th>linkResource</th>\n      <th>metadataDate</th>\n      <th>repository</th>\n      <th>objectURL</th>\n      <th>tags</th>\n      <th>objectWikidata_URL</th>\n    </tr>\n  </thead>\n  <tbody>\n    <tr>\n      <th>0</th>\n      <td>34</td>\n      <td>NaN</td>\n      <td>NaN</td>\n      <td>2023-02-07T04:46:51.34Z</td>\n      <td>Metropolitan Museum of Art, New York, NY</td>\n      <td>https://www.metmuseum.org/art/collection/searc...</td>\n      <td>[{'term': 'Boats', 'AAT_URL': 'http://vocab.ge...</td>\n      <td>https://www.wikidata.org/wiki/Q116373732</td>\n    </tr>\n    <tr>\n      <th>1</th>\n      <td>37</td>\n      <td>NaN</td>\n      <td>NaN</td>\n      <td>2023-02-07T04:46:51.34Z</td>\n      <td>Metropolitan Museum of Art, New York, NY</td>\n      <td>https://www.metmuseum.org/art/collection/searc...</td>\n      <td>[{'term': 'Cannons', 'AAT_URL': 'http://vocab....</td>\n      <td>https://www.wikidata.org/wiki/Q116373729</td>\n    </tr>\n    <tr>\n      <th>2</th>\n      <td>38</td>\n      <td>NaN</td>\n      <td>NaN</td>\n      <td>2023-02-07T04:46:51.34Z</td>\n      <td>Metropolitan Museum of Art, New York, NY</td>\n      <td>https://www.metmuseum.org/art/collection/searc...</td>\n      <td>[{'term': 'Cannons', 'AAT_URL': 'http://vocab....</td>\n      <td>https://www.wikidata.org/wiki/Q116373728</td>\n    </tr>\n    <tr>\n      <th>3</th>\n      <td>39</td>\n      <td>NaN</td>\n      <td>NaN</td>\n      <td>2021-04-06T04:41:04.967Z</td>\n      <td>Metropolitan Museum of Art, New York, NY</td>\n      <td>https://www.metmuseum.org/art/collection/searc...</td>\n      <td>[{'term': 'Advertisements', 'AAT_URL': 'http:/...</td>\n      <td>NaN</td>\n    </tr>\n  </tbody>\n</table>\n</div>"
     },
     "execution_count": 182,
     "metadata": {},
     "output_type": "execute_result"
    }
   ],
   "source": [
    "meta.head(4)"
   ],
   "metadata": {
    "collapsed": false
   }
  },
  {
   "cell_type": "code",
   "execution_count": 186,
   "outputs": [],
   "source": [
    "meta.drop(columns=['rightsAndReproduction', 'linkResource'], inplace=True)"
   ],
   "metadata": {
    "collapsed": false
   }
  },
  {
   "cell_type": "code",
   "execution_count": 192,
   "outputs": [],
   "source": [
    "meta = meta.dropna(subset=['objectID'])"
   ],
   "metadata": {
    "collapsed": false
   }
  },
  {
   "cell_type": "code",
   "execution_count": 194,
   "outputs": [
    {
     "data": {
      "text/plain": "(194597, 6)"
     },
     "execution_count": 194,
     "metadata": {},
     "output_type": "execute_result"
    }
   ],
   "source": [
    "meta.shape"
   ],
   "metadata": {
    "collapsed": false
   }
  },
  {
   "cell_type": "code",
   "execution_count": 197,
   "outputs": [],
   "source": [
    "tmp_df = meta"
   ],
   "metadata": {
    "collapsed": false
   }
  },
  {
   "cell_type": "code",
   "execution_count": 199,
   "outputs": [],
   "source": [
    "tmp_df['objectID'] = tmp_df['objectID'].astype('string')\n",
    "tmp_df = tmp_df[tmp_df['objectID'].apply(lambda x: re.search(r'[1-9][0-9]*', x) is not None if True else False)]"
   ],
   "metadata": {
    "collapsed": false
   }
  },
  {
   "cell_type": "code",
   "execution_count": 201,
   "outputs": [
    {
     "data": {
      "text/plain": "(194591, 6)"
     },
     "execution_count": 201,
     "metadata": {},
     "output_type": "execute_result"
    }
   ],
   "source": [
    "tmp_df.shape"
   ],
   "metadata": {
    "collapsed": false
   }
  },
  {
   "cell_type": "code",
   "execution_count": 203,
   "outputs": [
    {
     "data": {
      "text/plain": "objectID               int64\nmetadataDate          string\nrepository            string\nobjectURL             string\ntags                  object\nobjectWikidata_URL    string\ndtype: object"
     },
     "execution_count": 203,
     "metadata": {},
     "output_type": "execute_result"
    }
   ],
   "source": [
    "tmp_df = tmp_df.astype({\n",
    "    \"objectID\": 'int',\n",
    "    \"metadataDate\": 'string',\n",
    "    \"repository\": 'string',\n",
    "    \"objectURL\": 'string',\n",
    "    \"objectWikidata_URL\": \"string\"\n",
    "})\n",
    "tmp_df.dtypes"
   ],
   "metadata": {
    "collapsed": false
   }
  },
  {
   "cell_type": "code",
   "execution_count": 204,
   "outputs": [
    {
     "name": "stderr",
     "output_type": "stream",
     "text": [
      "/var/folders/pl/31lr7g6160j6gclk5kfqf6h80000gn/T/ipykernel_39658/3490993018.py:1: DeprecationWarning: In a future version, `df.iloc[:, i] = newvals` will attempt to set the values inplace instead of always setting a new array. To retain the old behavior, use either `df[df.columns[i]] = newvals` or, if columns are non-unique, `df.isetitem(i, newvals)`\n",
      "  tmp_df.fillna({'metadataDate': '',\n"
     ]
    }
   ],
   "source": [
    "tmp_df.fillna({'metadataDate': '',\n",
    "               'repository': '',\n",
    "               'objectURL': '',\n",
    "               'objectWikidata_URL': ''}, inplace=True)"
   ],
   "metadata": {
    "collapsed": false
   }
  },
  {
   "cell_type": "code",
   "execution_count": 209,
   "outputs": [],
   "source": [
    "tmp_df['metadataDate'] = pd.to_datetime(tmp_df['metadataDate'])"
   ],
   "metadata": {
    "collapsed": false
   }
  },
  {
   "cell_type": "code",
   "execution_count": 210,
   "outputs": [],
   "source": [
    "tmp_df.to_csv('../../dataset/metadata_clean2.csv', index=False)"
   ],
   "metadata": {
    "collapsed": false
   }
  },
  {
   "cell_type": "code",
   "execution_count": null,
   "outputs": [],
   "source": [],
   "metadata": {
    "collapsed": false
   }
  }
 ],
 "metadata": {
  "kernelspec": {
   "display_name": "Python 3",
   "language": "python",
   "name": "python3"
  },
  "language_info": {
   "codemirror_mode": {
    "name": "ipython",
    "version": 2
   },
   "file_extension": ".py",
   "mimetype": "text/x-python",
   "name": "python",
   "nbconvert_exporter": "python",
   "pygments_lexer": "ipython2",
   "version": "2.7.6"
  }
 },
 "nbformat": 4,
 "nbformat_minor": 0
}
